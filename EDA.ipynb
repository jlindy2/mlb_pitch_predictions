{
 "cells": [
  {
   "cell_type": "code",
   "execution_count": 1,
   "metadata": {},
   "outputs": [],
   "source": [
    "import pandas as pd\n",
    "import numpy as np\n",
    "import matplotlib.pyplot as plt\n",
    "%matplotlib inline\n",
    "import seaborn as sns"
   ]
  },
  {
   "cell_type": "code",
   "execution_count": 2,
   "metadata": {},
   "outputs": [
    {
     "data": {
      "text/html": [
       "<div>\n",
       "<style scoped>\n",
       "    .dataframe tbody tr th:only-of-type {\n",
       "        vertical-align: middle;\n",
       "    }\n",
       "\n",
       "    .dataframe tbody tr th {\n",
       "        vertical-align: top;\n",
       "    }\n",
       "\n",
       "    .dataframe thead th {\n",
       "        text-align: right;\n",
       "    }\n",
       "</style>\n",
       "<table border=\"1\" class=\"dataframe\">\n",
       "  <thead>\n",
       "    <tr style=\"text-align: right;\">\n",
       "      <th></th>\n",
       "      <th>pitch_type</th>\n",
       "      <th>game_date</th>\n",
       "      <th>release_pos_z</th>\n",
       "      <th>player_name</th>\n",
       "      <th>batter</th>\n",
       "      <th>pitcher</th>\n",
       "      <th>events</th>\n",
       "      <th>description</th>\n",
       "      <th>zone</th>\n",
       "      <th>game_type</th>\n",
       "      <th>...</th>\n",
       "      <th>home_score</th>\n",
       "      <th>away_score</th>\n",
       "      <th>bat_score</th>\n",
       "      <th>fld_score</th>\n",
       "      <th>post_away_score</th>\n",
       "      <th>post_home_score</th>\n",
       "      <th>post_bat_score</th>\n",
       "      <th>post_fld_score</th>\n",
       "      <th>if_fielding_alignment</th>\n",
       "      <th>of_fielding_alignment</th>\n",
       "    </tr>\n",
       "  </thead>\n",
       "  <tbody>\n",
       "    <tr>\n",
       "      <td>0</td>\n",
       "      <td>SL</td>\n",
       "      <td>2018-10-28</td>\n",
       "      <td>5.2558</td>\n",
       "      <td>Chris Sale</td>\n",
       "      <td>592518.0</td>\n",
       "      <td>519242.0</td>\n",
       "      <td>strikeout</td>\n",
       "      <td>swinging_strike</td>\n",
       "      <td>13.0</td>\n",
       "      <td>W</td>\n",
       "      <td>...</td>\n",
       "      <td>1.0</td>\n",
       "      <td>5.0</td>\n",
       "      <td>1.0</td>\n",
       "      <td>5.0</td>\n",
       "      <td>5.0</td>\n",
       "      <td>1.0</td>\n",
       "      <td>1.0</td>\n",
       "      <td>5.0</td>\n",
       "      <td>Standard</td>\n",
       "      <td>Standard</td>\n",
       "    </tr>\n",
       "    <tr>\n",
       "      <td>1</td>\n",
       "      <td>FF</td>\n",
       "      <td>2018-10-28</td>\n",
       "      <td>5.5011</td>\n",
       "      <td>Chris Sale</td>\n",
       "      <td>592518.0</td>\n",
       "      <td>519242.0</td>\n",
       "      <td>NaN</td>\n",
       "      <td>ball</td>\n",
       "      <td>12.0</td>\n",
       "      <td>W</td>\n",
       "      <td>...</td>\n",
       "      <td>1.0</td>\n",
       "      <td>5.0</td>\n",
       "      <td>1.0</td>\n",
       "      <td>5.0</td>\n",
       "      <td>5.0</td>\n",
       "      <td>1.0</td>\n",
       "      <td>1.0</td>\n",
       "      <td>5.0</td>\n",
       "      <td>Standard</td>\n",
       "      <td>Standard</td>\n",
       "    </tr>\n",
       "    <tr>\n",
       "      <td>2</td>\n",
       "      <td>FF</td>\n",
       "      <td>2018-10-28</td>\n",
       "      <td>5.5353</td>\n",
       "      <td>Chris Sale</td>\n",
       "      <td>592518.0</td>\n",
       "      <td>519242.0</td>\n",
       "      <td>NaN</td>\n",
       "      <td>foul</td>\n",
       "      <td>3.0</td>\n",
       "      <td>W</td>\n",
       "      <td>...</td>\n",
       "      <td>1.0</td>\n",
       "      <td>5.0</td>\n",
       "      <td>1.0</td>\n",
       "      <td>5.0</td>\n",
       "      <td>5.0</td>\n",
       "      <td>1.0</td>\n",
       "      <td>1.0</td>\n",
       "      <td>5.0</td>\n",
       "      <td>Standard</td>\n",
       "      <td>Standard</td>\n",
       "    </tr>\n",
       "    <tr>\n",
       "      <td>3</td>\n",
       "      <td>CH</td>\n",
       "      <td>2018-10-28</td>\n",
       "      <td>4.9820</td>\n",
       "      <td>Chris Sale</td>\n",
       "      <td>592518.0</td>\n",
       "      <td>519242.0</td>\n",
       "      <td>NaN</td>\n",
       "      <td>swinging_strike</td>\n",
       "      <td>13.0</td>\n",
       "      <td>W</td>\n",
       "      <td>...</td>\n",
       "      <td>1.0</td>\n",
       "      <td>5.0</td>\n",
       "      <td>1.0</td>\n",
       "      <td>5.0</td>\n",
       "      <td>5.0</td>\n",
       "      <td>1.0</td>\n",
       "      <td>1.0</td>\n",
       "      <td>5.0</td>\n",
       "      <td>Standard</td>\n",
       "      <td>Standard</td>\n",
       "    </tr>\n",
       "    <tr>\n",
       "      <td>4</td>\n",
       "      <td>SL</td>\n",
       "      <td>2018-10-28</td>\n",
       "      <td>5.1633</td>\n",
       "      <td>Chris Sale</td>\n",
       "      <td>571771.0</td>\n",
       "      <td>519242.0</td>\n",
       "      <td>strikeout</td>\n",
       "      <td>swinging_strike</td>\n",
       "      <td>4.0</td>\n",
       "      <td>W</td>\n",
       "      <td>...</td>\n",
       "      <td>1.0</td>\n",
       "      <td>5.0</td>\n",
       "      <td>1.0</td>\n",
       "      <td>5.0</td>\n",
       "      <td>5.0</td>\n",
       "      <td>1.0</td>\n",
       "      <td>1.0</td>\n",
       "      <td>5.0</td>\n",
       "      <td>Standard</td>\n",
       "      <td>Standard</td>\n",
       "    </tr>\n",
       "  </tbody>\n",
       "</table>\n",
       "<p>5 rows × 44 columns</p>\n",
       "</div>"
      ],
      "text/plain": [
       "  pitch_type  game_date  release_pos_z player_name    batter   pitcher  \\\n",
       "0         SL 2018-10-28         5.2558  Chris Sale  592518.0  519242.0   \n",
       "1         FF 2018-10-28         5.5011  Chris Sale  592518.0  519242.0   \n",
       "2         FF 2018-10-28         5.5353  Chris Sale  592518.0  519242.0   \n",
       "3         CH 2018-10-28         4.9820  Chris Sale  592518.0  519242.0   \n",
       "4         SL 2018-10-28         5.1633  Chris Sale  571771.0  519242.0   \n",
       "\n",
       "      events      description  zone game_type  ... home_score away_score  \\\n",
       "0  strikeout  swinging_strike  13.0         W  ...        1.0        5.0   \n",
       "1        NaN             ball  12.0         W  ...        1.0        5.0   \n",
       "2        NaN             foul   3.0         W  ...        1.0        5.0   \n",
       "3        NaN  swinging_strike  13.0         W  ...        1.0        5.0   \n",
       "4  strikeout  swinging_strike   4.0         W  ...        1.0        5.0   \n",
       "\n",
       "  bat_score fld_score post_away_score  post_home_score post_bat_score  \\\n",
       "0       1.0       5.0             5.0              1.0            1.0   \n",
       "1       1.0       5.0             5.0              1.0            1.0   \n",
       "2       1.0       5.0             5.0              1.0            1.0   \n",
       "3       1.0       5.0             5.0              1.0            1.0   \n",
       "4       1.0       5.0             5.0              1.0            1.0   \n",
       "\n",
       "   post_fld_score  if_fielding_alignment  of_fielding_alignment  \n",
       "0             5.0               Standard               Standard  \n",
       "1             5.0               Standard               Standard  \n",
       "2             5.0               Standard               Standard  \n",
       "3             5.0               Standard               Standard  \n",
       "4             5.0               Standard               Standard  \n",
       "\n",
       "[5 rows x 44 columns]"
      ]
     },
     "execution_count": 2,
     "metadata": {},
     "output_type": "execute_result"
    }
   ],
   "source": [
    "df = pd.read_pickle(\"cap_df.pkl\")\n",
    "df.head()"
   ]
  },
  {
   "cell_type": "code",
   "execution_count": 3,
   "metadata": {},
   "outputs": [],
   "source": [
    "df.drop(['release_pos_z', 'pitcher.1', 'fielder_2.1', 'post_away_score', \n",
    "        'post_home_score', 'post_bat_score', 'post_fld_score'],\n",
    "        axis=1, inplace=True)"
   ]
  },
  {
   "cell_type": "code",
   "execution_count": 4,
   "metadata": {},
   "outputs": [],
   "source": [
    "new_df = df.drop(df.loc[df['pitch_type']=='KN'].index)"
   ]
  },
  {
   "cell_type": "code",
   "execution_count": 5,
   "metadata": {},
   "outputs": [],
   "source": [
    "new_df = new_df.drop(new_df.loc[new_df['pitch_type']=='EP'].index)"
   ]
  },
  {
   "cell_type": "code",
   "execution_count": 6,
   "metadata": {},
   "outputs": [],
   "source": [
    "new_df = new_df.drop(new_df.loc[new_df['pitch_type']=='FO'].index)"
   ]
  },
  {
   "cell_type": "code",
   "execution_count": 7,
   "metadata": {},
   "outputs": [],
   "source": [
    "new_df = new_df.drop(new_df.loc[new_df['pitch_type']=='PO'].index)"
   ]
  },
  {
   "cell_type": "code",
   "execution_count": 8,
   "metadata": {},
   "outputs": [],
   "source": [
    "new_df = new_df.drop(new_df.loc[new_df['pitch_type']=='SC'].index)"
   ]
  },
  {
   "cell_type": "code",
   "execution_count": 9,
   "metadata": {},
   "outputs": [],
   "source": [
    "new_df.dropna(subset=['pitch_type'], inplace=True)"
   ]
  },
  {
   "cell_type": "code",
   "execution_count": 10,
   "metadata": {},
   "outputs": [
    {
     "data": {
      "text/plain": [
       "(1467519, 37)"
      ]
     },
     "execution_count": 10,
     "metadata": {},
     "output_type": "execute_result"
    }
   ],
   "source": [
    "new_df.shape"
   ]
  },
  {
   "cell_type": "code",
   "execution_count": 11,
   "metadata": {},
   "outputs": [
    {
     "name": "stdout",
     "output_type": "stream",
     "text": [
      "<class 'pandas.core.frame.DataFrame'>\n",
      "Int64Index: 1467519 entries, 0 to 1474089\n",
      "Data columns (total 37 columns):\n",
      "pitch_type               1467519 non-null object\n",
      "game_date                1467519 non-null datetime64[ns]\n",
      "player_name              1467519 non-null object\n",
      "batter                   1467519 non-null float64\n",
      "pitcher                  1467519 non-null float64\n",
      "events                   374064 non-null object\n",
      "description              1467519 non-null object\n",
      "zone                     1465577 non-null float64\n",
      "game_type                1467519 non-null object\n",
      "stand                    1467519 non-null object\n",
      "p_throws                 1467519 non-null object\n",
      "home_team                1467519 non-null object\n",
      "away_team                1467519 non-null object\n",
      "type                     1467519 non-null object\n",
      "hit_location             326338 non-null float64\n",
      "bb_type                  254130 non-null object\n",
      "balls                    1467519 non-null float64\n",
      "strikes                  1467519 non-null float64\n",
      "game_year                1467519 non-null float64\n",
      "on_3b                    135436 non-null float64\n",
      "on_2b                    267458 non-null float64\n",
      "on_1b                    445810 non-null float64\n",
      "outs_when_up             1467519 non-null float64\n",
      "inning                   1467519 non-null float64\n",
      "inning_topbot            1467519 non-null object\n",
      "fielder_2                1467519 non-null float64\n",
      "sv_id                    1467518 non-null object\n",
      "game_pk                  1467519 non-null float64\n",
      "at_bat_number            1467519 non-null float64\n",
      "pitch_number             1467519 non-null float64\n",
      "pitch_name               1467519 non-null object\n",
      "home_score               1467519 non-null float64\n",
      "away_score               1467519 non-null float64\n",
      "bat_score                1467519 non-null float64\n",
      "fld_score                1467519 non-null float64\n",
      "if_fielding_alignment    1464895 non-null object\n",
      "of_fielding_alignment    1464895 non-null object\n",
      "dtypes: datetime64[ns](1), float64(20), object(16)\n",
      "memory usage: 425.5+ MB\n"
     ]
    }
   ],
   "source": [
    "new_df.info()"
   ]
  },
  {
   "cell_type": "code",
   "execution_count": 12,
   "metadata": {},
   "outputs": [
    {
     "data": {
      "text/html": [
       "<div>\n",
       "<style scoped>\n",
       "    .dataframe tbody tr th:only-of-type {\n",
       "        vertical-align: middle;\n",
       "    }\n",
       "\n",
       "    .dataframe tbody tr th {\n",
       "        vertical-align: top;\n",
       "    }\n",
       "\n",
       "    .dataframe thead th {\n",
       "        text-align: right;\n",
       "    }\n",
       "</style>\n",
       "<table border=\"1\" class=\"dataframe\">\n",
       "  <thead>\n",
       "    <tr style=\"text-align: right;\">\n",
       "      <th></th>\n",
       "      <th>batter</th>\n",
       "      <th>pitcher</th>\n",
       "      <th>zone</th>\n",
       "      <th>hit_location</th>\n",
       "      <th>balls</th>\n",
       "      <th>strikes</th>\n",
       "      <th>game_year</th>\n",
       "      <th>on_3b</th>\n",
       "      <th>on_2b</th>\n",
       "      <th>on_1b</th>\n",
       "      <th>outs_when_up</th>\n",
       "      <th>inning</th>\n",
       "      <th>fielder_2</th>\n",
       "      <th>game_pk</th>\n",
       "      <th>at_bat_number</th>\n",
       "      <th>pitch_number</th>\n",
       "      <th>home_score</th>\n",
       "      <th>away_score</th>\n",
       "      <th>bat_score</th>\n",
       "      <th>fld_score</th>\n",
       "    </tr>\n",
       "  </thead>\n",
       "  <tbody>\n",
       "    <tr>\n",
       "      <td>count</td>\n",
       "      <td>1.467519e+06</td>\n",
       "      <td>1.467519e+06</td>\n",
       "      <td>1.465577e+06</td>\n",
       "      <td>326338.000000</td>\n",
       "      <td>1.467519e+06</td>\n",
       "      <td>1.467519e+06</td>\n",
       "      <td>1.467519e+06</td>\n",
       "      <td>135436.000000</td>\n",
       "      <td>267458.000000</td>\n",
       "      <td>445810.000000</td>\n",
       "      <td>1.467519e+06</td>\n",
       "      <td>1.467519e+06</td>\n",
       "      <td>1.467519e+06</td>\n",
       "      <td>1.467519e+06</td>\n",
       "      <td>1.467519e+06</td>\n",
       "      <td>1.467519e+06</td>\n",
       "      <td>1.467519e+06</td>\n",
       "      <td>1.467519e+06</td>\n",
       "      <td>1.467519e+06</td>\n",
       "      <td>1.467519e+06</td>\n",
       "    </tr>\n",
       "    <tr>\n",
       "      <td>mean</td>\n",
       "      <td>5.612416e+05</td>\n",
       "      <td>5.634255e+05</td>\n",
       "      <td>9.178289e+00</td>\n",
       "      <td>5.070920</td>\n",
       "      <td>8.871885e-01</td>\n",
       "      <td>8.965533e-01</td>\n",
       "      <td>2.018504e+03</td>\n",
       "      <td>562664.166647</td>\n",
       "      <td>562157.489168</td>\n",
       "      <td>559703.068877</td>\n",
       "      <td>9.816950e-01</td>\n",
       "      <td>5.022850e+00</td>\n",
       "      <td>5.383683e+05</td>\n",
       "      <td>5.490430e+05</td>\n",
       "      <td>3.930730e+01</td>\n",
       "      <td>2.918545e+00</td>\n",
       "      <td>2.272300e+00</td>\n",
       "      <td>2.429652e+00</td>\n",
       "      <td>2.329280e+00</td>\n",
       "      <td>2.372673e+00</td>\n",
       "    </tr>\n",
       "    <tr>\n",
       "      <td>std</td>\n",
       "      <td>7.002104e+04</td>\n",
       "      <td>7.103559e+04</td>\n",
       "      <td>4.196843e+00</td>\n",
       "      <td>2.634815</td>\n",
       "      <td>9.685585e-01</td>\n",
       "      <td>8.266315e-01</td>\n",
       "      <td>4.999808e-01</td>\n",
       "      <td>69341.231270</td>\n",
       "      <td>69811.557538</td>\n",
       "      <td>70310.687184</td>\n",
       "      <td>8.172898e-01</td>\n",
       "      <td>2.685709e+00</td>\n",
       "      <td>6.679746e+04</td>\n",
       "      <td>1.824776e+04</td>\n",
       "      <td>2.328645e+01</td>\n",
       "      <td>1.739292e+00</td>\n",
       "      <td>2.647399e+00</td>\n",
       "      <td>2.703987e+00</td>\n",
       "      <td>2.631075e+00</td>\n",
       "      <td>2.721976e+00</td>\n",
       "    </tr>\n",
       "    <tr>\n",
       "      <td>min</td>\n",
       "      <td>1.125260e+05</td>\n",
       "      <td>1.125260e+05</td>\n",
       "      <td>1.000000e+00</td>\n",
       "      <td>1.000000</td>\n",
       "      <td>0.000000e+00</td>\n",
       "      <td>0.000000e+00</td>\n",
       "      <td>2.018000e+03</td>\n",
       "      <td>134181.000000</td>\n",
       "      <td>134181.000000</td>\n",
       "      <td>134181.000000</td>\n",
       "      <td>0.000000e+00</td>\n",
       "      <td>1.000000e+00</td>\n",
       "      <td>4.080450e+05</td>\n",
       "      <td>5.294060e+05</td>\n",
       "      <td>1.000000e+00</td>\n",
       "      <td>1.000000e+00</td>\n",
       "      <td>0.000000e+00</td>\n",
       "      <td>0.000000e+00</td>\n",
       "      <td>0.000000e+00</td>\n",
       "      <td>0.000000e+00</td>\n",
       "    </tr>\n",
       "    <tr>\n",
       "      <td>25%</td>\n",
       "      <td>5.164160e+05</td>\n",
       "      <td>5.184890e+05</td>\n",
       "      <td>5.000000e+00</td>\n",
       "      <td>2.000000</td>\n",
       "      <td>0.000000e+00</td>\n",
       "      <td>0.000000e+00</td>\n",
       "      <td>2.018000e+03</td>\n",
       "      <td>516770.000000</td>\n",
       "      <td>516770.000000</td>\n",
       "      <td>514888.000000</td>\n",
       "      <td>0.000000e+00</td>\n",
       "      <td>3.000000e+00</td>\n",
       "      <td>4.650410e+05</td>\n",
       "      <td>5.306500e+05</td>\n",
       "      <td>1.900000e+01</td>\n",
       "      <td>1.000000e+00</td>\n",
       "      <td>0.000000e+00</td>\n",
       "      <td>0.000000e+00</td>\n",
       "      <td>0.000000e+00</td>\n",
       "      <td>0.000000e+00</td>\n",
       "    </tr>\n",
       "    <tr>\n",
       "      <td>50%</td>\n",
       "      <td>5.722330e+05</td>\n",
       "      <td>5.922220e+05</td>\n",
       "      <td>1.100000e+01</td>\n",
       "      <td>5.000000</td>\n",
       "      <td>1.000000e+00</td>\n",
       "      <td>1.000000e+00</td>\n",
       "      <td>2.019000e+03</td>\n",
       "      <td>572821.000000</td>\n",
       "      <td>572816.000000</td>\n",
       "      <td>572039.000000</td>\n",
       "      <td>1.000000e+00</td>\n",
       "      <td>5.000000e+00</td>\n",
       "      <td>5.438770e+05</td>\n",
       "      <td>5.647580e+05</td>\n",
       "      <td>3.900000e+01</td>\n",
       "      <td>3.000000e+00</td>\n",
       "      <td>1.000000e+00</td>\n",
       "      <td>2.000000e+00</td>\n",
       "      <td>2.000000e+00</td>\n",
       "      <td>2.000000e+00</td>\n",
       "    </tr>\n",
       "    <tr>\n",
       "      <td>75%</td>\n",
       "      <td>6.083840e+05</td>\n",
       "      <td>6.086650e+05</td>\n",
       "      <td>1.300000e+01</td>\n",
       "      <td>8.000000</td>\n",
       "      <td>2.000000e+00</td>\n",
       "      <td>2.000000e+00</td>\n",
       "      <td>2.019000e+03</td>\n",
       "      <td>608385.000000</td>\n",
       "      <td>608475.000000</td>\n",
       "      <td>608331.000000</td>\n",
       "      <td>2.000000e+00</td>\n",
       "      <td>7.000000e+00</td>\n",
       "      <td>5.957510e+05</td>\n",
       "      <td>5.662120e+05</td>\n",
       "      <td>5.800000e+01</td>\n",
       "      <td>4.000000e+00</td>\n",
       "      <td>4.000000e+00</td>\n",
       "      <td>4.000000e+00</td>\n",
       "      <td>4.000000e+00</td>\n",
       "      <td>4.000000e+00</td>\n",
       "    </tr>\n",
       "    <tr>\n",
       "      <td>max</td>\n",
       "      <td>6.766060e+05</td>\n",
       "      <td>6.779760e+05</td>\n",
       "      <td>1.400000e+01</td>\n",
       "      <td>9.000000</td>\n",
       "      <td>4.000000e+00</td>\n",
       "      <td>2.000000e+00</td>\n",
       "      <td>2.019000e+03</td>\n",
       "      <td>676606.000000</td>\n",
       "      <td>676606.000000</td>\n",
       "      <td>676606.000000</td>\n",
       "      <td>2.000000e+00</td>\n",
       "      <td>1.900000e+01</td>\n",
       "      <td>6.692570e+05</td>\n",
       "      <td>5.993770e+05</td>\n",
       "      <td>1.480000e+02</td>\n",
       "      <td>2.100000e+01</td>\n",
       "      <td>2.500000e+01</td>\n",
       "      <td>2.400000e+01</td>\n",
       "      <td>2.500000e+01</td>\n",
       "      <td>2.500000e+01</td>\n",
       "    </tr>\n",
       "  </tbody>\n",
       "</table>\n",
       "</div>"
      ],
      "text/plain": [
       "             batter       pitcher          zone   hit_location         balls  \\\n",
       "count  1.467519e+06  1.467519e+06  1.465577e+06  326338.000000  1.467519e+06   \n",
       "mean   5.612416e+05  5.634255e+05  9.178289e+00       5.070920  8.871885e-01   \n",
       "std    7.002104e+04  7.103559e+04  4.196843e+00       2.634815  9.685585e-01   \n",
       "min    1.125260e+05  1.125260e+05  1.000000e+00       1.000000  0.000000e+00   \n",
       "25%    5.164160e+05  5.184890e+05  5.000000e+00       2.000000  0.000000e+00   \n",
       "50%    5.722330e+05  5.922220e+05  1.100000e+01       5.000000  1.000000e+00   \n",
       "75%    6.083840e+05  6.086650e+05  1.300000e+01       8.000000  2.000000e+00   \n",
       "max    6.766060e+05  6.779760e+05  1.400000e+01       9.000000  4.000000e+00   \n",
       "\n",
       "            strikes     game_year          on_3b          on_2b  \\\n",
       "count  1.467519e+06  1.467519e+06  135436.000000  267458.000000   \n",
       "mean   8.965533e-01  2.018504e+03  562664.166647  562157.489168   \n",
       "std    8.266315e-01  4.999808e-01   69341.231270   69811.557538   \n",
       "min    0.000000e+00  2.018000e+03  134181.000000  134181.000000   \n",
       "25%    0.000000e+00  2.018000e+03  516770.000000  516770.000000   \n",
       "50%    1.000000e+00  2.019000e+03  572821.000000  572816.000000   \n",
       "75%    2.000000e+00  2.019000e+03  608385.000000  608475.000000   \n",
       "max    2.000000e+00  2.019000e+03  676606.000000  676606.000000   \n",
       "\n",
       "               on_1b  outs_when_up        inning     fielder_2       game_pk  \\\n",
       "count  445810.000000  1.467519e+06  1.467519e+06  1.467519e+06  1.467519e+06   \n",
       "mean   559703.068877  9.816950e-01  5.022850e+00  5.383683e+05  5.490430e+05   \n",
       "std     70310.687184  8.172898e-01  2.685709e+00  6.679746e+04  1.824776e+04   \n",
       "min    134181.000000  0.000000e+00  1.000000e+00  4.080450e+05  5.294060e+05   \n",
       "25%    514888.000000  0.000000e+00  3.000000e+00  4.650410e+05  5.306500e+05   \n",
       "50%    572039.000000  1.000000e+00  5.000000e+00  5.438770e+05  5.647580e+05   \n",
       "75%    608331.000000  2.000000e+00  7.000000e+00  5.957510e+05  5.662120e+05   \n",
       "max    676606.000000  2.000000e+00  1.900000e+01  6.692570e+05  5.993770e+05   \n",
       "\n",
       "       at_bat_number  pitch_number    home_score    away_score     bat_score  \\\n",
       "count   1.467519e+06  1.467519e+06  1.467519e+06  1.467519e+06  1.467519e+06   \n",
       "mean    3.930730e+01  2.918545e+00  2.272300e+00  2.429652e+00  2.329280e+00   \n",
       "std     2.328645e+01  1.739292e+00  2.647399e+00  2.703987e+00  2.631075e+00   \n",
       "min     1.000000e+00  1.000000e+00  0.000000e+00  0.000000e+00  0.000000e+00   \n",
       "25%     1.900000e+01  1.000000e+00  0.000000e+00  0.000000e+00  0.000000e+00   \n",
       "50%     3.900000e+01  3.000000e+00  1.000000e+00  2.000000e+00  2.000000e+00   \n",
       "75%     5.800000e+01  4.000000e+00  4.000000e+00  4.000000e+00  4.000000e+00   \n",
       "max     1.480000e+02  2.100000e+01  2.500000e+01  2.400000e+01  2.500000e+01   \n",
       "\n",
       "          fld_score  \n",
       "count  1.467519e+06  \n",
       "mean   2.372673e+00  \n",
       "std    2.721976e+00  \n",
       "min    0.000000e+00  \n",
       "25%    0.000000e+00  \n",
       "50%    2.000000e+00  \n",
       "75%    4.000000e+00  \n",
       "max    2.500000e+01  "
      ]
     },
     "execution_count": 12,
     "metadata": {},
     "output_type": "execute_result"
    }
   ],
   "source": [
    "new_df.describe()"
   ]
  },
  {
   "cell_type": "code",
   "execution_count": 13,
   "metadata": {},
   "outputs": [
    {
     "data": {
      "text/plain": [
       "FF    527014\n",
       "SL    254674\n",
       "CH    157735\n",
       "FT    142455\n",
       "CU    124215\n",
       "SI    115745\n",
       "FC     88433\n",
       "KC     35772\n",
       "FS     21476\n",
       "Name: pitch_type, dtype: int64"
      ]
     },
     "execution_count": 13,
     "metadata": {},
     "output_type": "execute_result"
    }
   ],
   "source": [
    "new_df['pitch_type'].value_counts()"
   ]
  },
  {
   "cell_type": "code",
   "execution_count": 14,
   "metadata": {},
   "outputs": [
    {
     "data": {
      "text/plain": [
       "R    1452974\n",
       "D       9540\n",
       "L       6559\n",
       "W       3795\n",
       "F       1222\n",
       "Name: game_type, dtype: int64"
      ]
     },
     "execution_count": 14,
     "metadata": {},
     "output_type": "execute_result"
    }
   ],
   "source": [
    "df['game_type'].value_counts()"
   ]
  },
  {
   "cell_type": "code",
   "execution_count": 15,
   "metadata": {},
   "outputs": [
    {
     "data": {
      "text/plain": [
       "R    864367\n",
       "L    609723\n",
       "Name: stand, dtype: int64"
      ]
     },
     "execution_count": 15,
     "metadata": {},
     "output_type": "execute_result"
    }
   ],
   "source": [
    "df['stand'].value_counts()"
   ]
  },
  {
   "cell_type": "code",
   "execution_count": 16,
   "metadata": {},
   "outputs": [
    {
     "data": {
      "text/plain": [
       "R    1060128\n",
       "L     413962\n",
       "Name: p_throws, dtype: int64"
      ]
     },
     "execution_count": 16,
     "metadata": {},
     "output_type": "execute_result"
    }
   ],
   "source": [
    "df['p_throws'].value_counts()"
   ]
  },
  {
   "cell_type": "code",
   "execution_count": 17,
   "metadata": {},
   "outputs": [
    {
     "data": {
      "text/plain": [
       "S    684179\n",
       "B    534563\n",
       "X    255348\n",
       "Name: type, dtype: int64"
      ]
     },
     "execution_count": 17,
     "metadata": {},
     "output_type": "execute_result"
    }
   ],
   "source": [
    "df['type'].value_counts()"
   ]
  },
  {
   "cell_type": "code",
   "execution_count": 18,
   "metadata": {},
   "outputs": [
    {
     "data": {
      "text/plain": [
       "190719_040300    34\n",
       "190714_190822    15\n",
       "180829_170752    10\n",
       "180805_001523    10\n",
       "180902_011859    10\n",
       "                 ..\n",
       "190720_004715     1\n",
       "190702_025855     1\n",
       "190523_025430     1\n",
       "190425_172919     1\n",
       "190629_203807     1\n",
       "Name: sv_id, Length: 1367276, dtype: int64"
      ]
     },
     "execution_count": 18,
     "metadata": {},
     "output_type": "execute_result"
    }
   ],
   "source": [
    "df['sv_id'].value_counts()"
   ]
  },
  {
   "cell_type": "code",
   "execution_count": 19,
   "metadata": {},
   "outputs": [
    {
     "data": {
      "text/plain": [
       "564909.0    594\n",
       "564784.0    571\n",
       "563409.0    561\n",
       "529671.0    556\n",
       "565102.0    547\n",
       "           ... \n",
       "567220.0    191\n",
       "530912.0    175\n",
       "565333.0    167\n",
       "566187.0    157\n",
       "567286.0    152\n",
       "Name: game_pk, Length: 4928, dtype: int64"
      ]
     },
     "execution_count": 19,
     "metadata": {},
     "output_type": "execute_result"
    }
   ],
   "source": [
    "df['game_pk'].value_counts()"
   ]
  },
  {
   "cell_type": "code",
   "execution_count": 20,
   "metadata": {},
   "outputs": [
    {
     "data": {
      "text/plain": [
       "Standard         1018453\n",
       "Infield shift     325201\n",
       "Strategic         124033\n",
       "Name: if_fielding_alignment, dtype: int64"
      ]
     },
     "execution_count": 20,
     "metadata": {},
     "output_type": "execute_result"
    }
   ],
   "source": [
    "df['if_fielding_alignment'].value_counts()"
   ]
  },
  {
   "cell_type": "code",
   "execution_count": 21,
   "metadata": {},
   "outputs": [
    {
     "data": {
      "text/plain": [
       "Standard                  1343289\n",
       "Strategic                  123374\n",
       "4th outfielder               1023\n",
       "Extreme outfield shift          1\n",
       "Name: of_fielding_alignment, dtype: int64"
      ]
     },
     "execution_count": 21,
     "metadata": {},
     "output_type": "execute_result"
    }
   ],
   "source": [
    "df['of_fielding_alignment'].value_counts()"
   ]
  },
  {
   "cell_type": "code",
   "execution_count": 22,
   "metadata": {},
   "outputs": [
    {
     "data": {
      "image/png": "[encoded data removed]",
      "text/plain": [
       "<Figure size 1440x1296 with 20 Axes>"
      ]
     },
     "metadata": {
      "needs_background": "light"
     },
     "output_type": "display_data"
    }
   ],
   "source": [
    "new_df.hist(figsize=(20,18));"
   ]
  },
  {
   "cell_type": "code",
   "execution_count": 23,
   "metadata": {},
   "outputs": [
    {
     "data": {
      "text/html": [
       "<div>\n",
       "<style scoped>\n",
       "    .dataframe tbody tr th:only-of-type {\n",
       "        vertical-align: middle;\n",
       "    }\n",
       "\n",
       "    .dataframe tbody tr th {\n",
       "        vertical-align: top;\n",
       "    }\n",
       "\n",
       "    .dataframe thead th {\n",
       "        text-align: right;\n",
       "    }\n",
       "</style>\n",
       "<table border=\"1\" class=\"dataframe\">\n",
       "  <thead>\n",
       "    <tr style=\"text-align: right;\">\n",
       "      <th></th>\n",
       "      <th>batter</th>\n",
       "      <th>pitcher</th>\n",
       "      <th>zone</th>\n",
       "      <th>hit_location</th>\n",
       "      <th>balls</th>\n",
       "      <th>strikes</th>\n",
       "      <th>game_year</th>\n",
       "      <th>on_3b</th>\n",
       "      <th>on_2b</th>\n",
       "      <th>on_1b</th>\n",
       "      <th>outs_when_up</th>\n",
       "      <th>inning</th>\n",
       "      <th>fielder_2</th>\n",
       "      <th>game_pk</th>\n",
       "      <th>at_bat_number</th>\n",
       "      <th>pitch_number</th>\n",
       "      <th>home_score</th>\n",
       "      <th>away_score</th>\n",
       "      <th>bat_score</th>\n",
       "      <th>fld_score</th>\n",
       "    </tr>\n",
       "  </thead>\n",
       "  <tbody>\n",
       "    <tr>\n",
       "      <td>batter</td>\n",
       "      <td>1.000000</td>\n",
       "      <td>0.030759</td>\n",
       "      <td>-0.000501</td>\n",
       "      <td>-0.027750</td>\n",
       "      <td>-0.001460</td>\n",
       "      <td>0.007482</td>\n",
       "      <td>0.147772</td>\n",
       "      <td>0.041489</td>\n",
       "      <td>0.031027</td>\n",
       "      <td>0.018743</td>\n",
       "      <td>-0.006257</td>\n",
       "      <td>0.011395</td>\n",
       "      <td>0.028350</td>\n",
       "      <td>0.141491</td>\n",
       "      <td>0.012864</td>\n",
       "      <td>0.003727</td>\n",
       "      <td>0.014395</td>\n",
       "      <td>0.014489</td>\n",
       "      <td>0.012490</td>\n",
       "      <td>0.016320</td>\n",
       "    </tr>\n",
       "    <tr>\n",
       "      <td>pitcher</td>\n",
       "      <td>0.030759</td>\n",
       "      <td>1.000000</td>\n",
       "      <td>-0.009172</td>\n",
       "      <td>-0.003279</td>\n",
       "      <td>0.007758</td>\n",
       "      <td>-0.000378</td>\n",
       "      <td>0.120942</td>\n",
       "      <td>0.027418</td>\n",
       "      <td>0.021888</td>\n",
       "      <td>0.030082</td>\n",
       "      <td>-0.000180</td>\n",
       "      <td>0.011175</td>\n",
       "      <td>0.098979</td>\n",
       "      <td>0.110525</td>\n",
       "      <td>0.017099</td>\n",
       "      <td>0.005518</td>\n",
       "      <td>0.026249</td>\n",
       "      <td>0.025176</td>\n",
       "      <td>0.057596</td>\n",
       "      <td>-0.005133</td>\n",
       "    </tr>\n",
       "    <tr>\n",
       "      <td>zone</td>\n",
       "      <td>-0.000501</td>\n",
       "      <td>-0.009172</td>\n",
       "      <td>1.000000</td>\n",
       "      <td>-0.244402</td>\n",
       "      <td>-0.057494</td>\n",
       "      <td>0.079626</td>\n",
       "      <td>0.013343</td>\n",
       "      <td>0.000051</td>\n",
       "      <td>0.001686</td>\n",
       "      <td>-0.001600</td>\n",
       "      <td>0.022672</td>\n",
       "      <td>0.003675</td>\n",
       "      <td>0.002199</td>\n",
       "      <td>0.013181</td>\n",
       "      <td>0.004285</td>\n",
       "      <td>0.008071</td>\n",
       "      <td>0.001661</td>\n",
       "      <td>-0.000585</td>\n",
       "      <td>0.005006</td>\n",
       "      <td>-0.003802</td>\n",
       "    </tr>\n",
       "    <tr>\n",
       "      <td>hit_location</td>\n",
       "      <td>-0.027750</td>\n",
       "      <td>-0.003279</td>\n",
       "      <td>-0.244402</td>\n",
       "      <td>1.000000</td>\n",
       "      <td>-0.074303</td>\n",
       "      <td>-0.346655</td>\n",
       "      <td>-0.005682</td>\n",
       "      <td>-0.003255</td>\n",
       "      <td>-0.006527</td>\n",
       "      <td>-0.004364</td>\n",
       "      <td>-0.018293</td>\n",
       "      <td>-0.014895</td>\n",
       "      <td>0.007148</td>\n",
       "      <td>-0.007228</td>\n",
       "      <td>-0.011905</td>\n",
       "      <td>-0.227083</td>\n",
       "      <td>0.000456</td>\n",
       "      <td>0.004113</td>\n",
       "      <td>0.010866</td>\n",
       "      <td>-0.005951</td>\n",
       "    </tr>\n",
       "    <tr>\n",
       "      <td>balls</td>\n",
       "      <td>-0.001460</td>\n",
       "      <td>0.007758</td>\n",
       "      <td>-0.057494</td>\n",
       "      <td>-0.074303</td>\n",
       "      <td>1.000000</td>\n",
       "      <td>0.383334</td>\n",
       "      <td>0.002650</td>\n",
       "      <td>0.003898</td>\n",
       "      <td>0.007581</td>\n",
       "      <td>-0.008013</td>\n",
       "      <td>0.014593</td>\n",
       "      <td>-0.001729</td>\n",
       "      <td>-0.003021</td>\n",
       "      <td>0.002564</td>\n",
       "      <td>0.000175</td>\n",
       "      <td>0.811618</td>\n",
       "      <td>0.002613</td>\n",
       "      <td>0.001572</td>\n",
       "      <td>0.005796</td>\n",
       "      <td>-0.001499</td>\n",
       "    </tr>\n",
       "    <tr>\n",
       "      <td>strikes</td>\n",
       "      <td>0.007482</td>\n",
       "      <td>-0.000378</td>\n",
       "      <td>0.079626</td>\n",
       "      <td>-0.346655</td>\n",
       "      <td>0.383334</td>\n",
       "      <td>1.000000</td>\n",
       "      <td>0.005796</td>\n",
       "      <td>0.001583</td>\n",
       "      <td>-0.000119</td>\n",
       "      <td>-0.003170</td>\n",
       "      <td>0.000774</td>\n",
       "      <td>-0.000429</td>\n",
       "      <td>-0.001125</td>\n",
       "      <td>0.006139</td>\n",
       "      <td>-0.001449</td>\n",
       "      <td>0.792195</td>\n",
       "      <td>-0.001130</td>\n",
       "      <td>-0.000494</td>\n",
       "      <td>-0.007427</td>\n",
       "      <td>0.005589</td>\n",
       "    </tr>\n",
       "    <tr>\n",
       "      <td>game_year</td>\n",
       "      <td>0.147772</td>\n",
       "      <td>0.120942</td>\n",
       "      <td>0.013343</td>\n",
       "      <td>-0.005682</td>\n",
       "      <td>0.002650</td>\n",
       "      <td>0.005796</td>\n",
       "      <td>1.000000</td>\n",
       "      <td>0.147716</td>\n",
       "      <td>0.141160</td>\n",
       "      <td>0.153077</td>\n",
       "      <td>0.000191</td>\n",
       "      <td>0.000761</td>\n",
       "      <td>0.131936</td>\n",
       "      <td>0.974829</td>\n",
       "      <td>0.008316</td>\n",
       "      <td>0.005046</td>\n",
       "      <td>0.032304</td>\n",
       "      <td>0.047526</td>\n",
       "      <td>0.040539</td>\n",
       "      <td>0.039445</td>\n",
       "    </tr>\n",
       "    <tr>\n",
       "      <td>on_3b</td>\n",
       "      <td>0.041489</td>\n",
       "      <td>0.027418</td>\n",
       "      <td>0.000051</td>\n",
       "      <td>-0.003255</td>\n",
       "      <td>0.003898</td>\n",
       "      <td>0.001583</td>\n",
       "      <td>0.147716</td>\n",
       "      <td>1.000000</td>\n",
       "      <td>-0.000562</td>\n",
       "      <td>0.041129</td>\n",
       "      <td>0.006068</td>\n",
       "      <td>0.015881</td>\n",
       "      <td>0.043737</td>\n",
       "      <td>0.143148</td>\n",
       "      <td>0.016975</td>\n",
       "      <td>0.003289</td>\n",
       "      <td>0.020603</td>\n",
       "      <td>0.007431</td>\n",
       "      <td>0.010315</td>\n",
       "      <td>0.017975</td>\n",
       "    </tr>\n",
       "    <tr>\n",
       "      <td>on_2b</td>\n",
       "      <td>0.031027</td>\n",
       "      <td>0.021888</td>\n",
       "      <td>0.001686</td>\n",
       "      <td>-0.006527</td>\n",
       "      <td>0.007581</td>\n",
       "      <td>-0.000119</td>\n",
       "      <td>0.141160</td>\n",
       "      <td>-0.000562</td>\n",
       "      <td>1.000000</td>\n",
       "      <td>0.023383</td>\n",
       "      <td>-0.006285</td>\n",
       "      <td>0.023062</td>\n",
       "      <td>0.030750</td>\n",
       "      <td>0.136019</td>\n",
       "      <td>0.022948</td>\n",
       "      <td>0.003549</td>\n",
       "      <td>0.019001</td>\n",
       "      <td>0.013486</td>\n",
       "      <td>0.012318</td>\n",
       "      <td>0.020241</td>\n",
       "    </tr>\n",
       "    <tr>\n",
       "      <td>on_1b</td>\n",
       "      <td>0.018743</td>\n",
       "      <td>0.030082</td>\n",
       "      <td>-0.001600</td>\n",
       "      <td>-0.004364</td>\n",
       "      <td>-0.008013</td>\n",
       "      <td>-0.003170</td>\n",
       "      <td>0.153077</td>\n",
       "      <td>0.041129</td>\n",
       "      <td>0.023383</td>\n",
       "      <td>1.000000</td>\n",
       "      <td>-0.002757</td>\n",
       "      <td>0.031409</td>\n",
       "      <td>0.033351</td>\n",
       "      <td>0.147783</td>\n",
       "      <td>0.032549</td>\n",
       "      <td>-0.006036</td>\n",
       "      <td>0.022076</td>\n",
       "      <td>0.028696</td>\n",
       "      <td>0.018825</td>\n",
       "      <td>0.031965</td>\n",
       "    </tr>\n",
       "    <tr>\n",
       "      <td>outs_when_up</td>\n",
       "      <td>-0.006257</td>\n",
       "      <td>-0.000180</td>\n",
       "      <td>0.022672</td>\n",
       "      <td>-0.018293</td>\n",
       "      <td>0.014593</td>\n",
       "      <td>0.000774</td>\n",
       "      <td>0.000191</td>\n",
       "      <td>0.006068</td>\n",
       "      <td>-0.006285</td>\n",
       "      <td>-0.002757</td>\n",
       "      <td>1.000000</td>\n",
       "      <td>-0.000476</td>\n",
       "      <td>-0.000789</td>\n",
       "      <td>0.000451</td>\n",
       "      <td>0.049162</td>\n",
       "      <td>0.007646</td>\n",
       "      <td>0.030643</td>\n",
       "      <td>0.030383</td>\n",
       "      <td>0.063685</td>\n",
       "      <td>-0.001573</td>\n",
       "    </tr>\n",
       "    <tr>\n",
       "      <td>inning</td>\n",
       "      <td>0.011395</td>\n",
       "      <td>0.011175</td>\n",
       "      <td>0.003675</td>\n",
       "      <td>-0.014895</td>\n",
       "      <td>-0.001729</td>\n",
       "      <td>-0.000429</td>\n",
       "      <td>0.000761</td>\n",
       "      <td>0.015881</td>\n",
       "      <td>0.023062</td>\n",
       "      <td>0.031409</td>\n",
       "      <td>-0.000476</td>\n",
       "      <td>1.000000</td>\n",
       "      <td>0.005653</td>\n",
       "      <td>0.001770</td>\n",
       "      <td>0.974360</td>\n",
       "      <td>-0.000226</td>\n",
       "      <td>0.473534</td>\n",
       "      <td>0.491620</td>\n",
       "      <td>0.461209</td>\n",
       "      <td>0.503124</td>\n",
       "    </tr>\n",
       "    <tr>\n",
       "      <td>fielder_2</td>\n",
       "      <td>0.028350</td>\n",
       "      <td>0.098979</td>\n",
       "      <td>0.002199</td>\n",
       "      <td>0.007148</td>\n",
       "      <td>-0.003021</td>\n",
       "      <td>-0.001125</td>\n",
       "      <td>0.131936</td>\n",
       "      <td>0.043737</td>\n",
       "      <td>0.030750</td>\n",
       "      <td>0.033351</td>\n",
       "      <td>-0.000789</td>\n",
       "      <td>0.005653</td>\n",
       "      <td>1.000000</td>\n",
       "      <td>0.117174</td>\n",
       "      <td>0.007284</td>\n",
       "      <td>-0.001922</td>\n",
       "      <td>0.019178</td>\n",
       "      <td>0.014655</td>\n",
       "      <td>0.041493</td>\n",
       "      <td>-0.006895</td>\n",
       "    </tr>\n",
       "    <tr>\n",
       "      <td>game_pk</td>\n",
       "      <td>0.141491</td>\n",
       "      <td>0.110525</td>\n",
       "      <td>0.013181</td>\n",
       "      <td>-0.007228</td>\n",
       "      <td>0.002564</td>\n",
       "      <td>0.006139</td>\n",
       "      <td>0.974829</td>\n",
       "      <td>0.143148</td>\n",
       "      <td>0.136019</td>\n",
       "      <td>0.147783</td>\n",
       "      <td>0.000451</td>\n",
       "      <td>0.001770</td>\n",
       "      <td>0.117174</td>\n",
       "      <td>1.000000</td>\n",
       "      <td>0.007947</td>\n",
       "      <td>0.005301</td>\n",
       "      <td>0.027453</td>\n",
       "      <td>0.041208</td>\n",
       "      <td>0.034884</td>\n",
       "      <td>0.033917</td>\n",
       "    </tr>\n",
       "    <tr>\n",
       "      <td>at_bat_number</td>\n",
       "      <td>0.012864</td>\n",
       "      <td>0.017099</td>\n",
       "      <td>0.004285</td>\n",
       "      <td>-0.011905</td>\n",
       "      <td>0.000175</td>\n",
       "      <td>-0.001449</td>\n",
       "      <td>0.008316</td>\n",
       "      <td>0.016975</td>\n",
       "      <td>0.022948</td>\n",
       "      <td>0.032549</td>\n",
       "      <td>0.049162</td>\n",
       "      <td>0.974360</td>\n",
       "      <td>0.007284</td>\n",
       "      <td>0.007947</td>\n",
       "      <td>1.000000</td>\n",
       "      <td>0.000342</td>\n",
       "      <td>0.570902</td>\n",
       "      <td>0.591577</td>\n",
       "      <td>0.560597</td>\n",
       "      <td>0.601052</td>\n",
       "    </tr>\n",
       "    <tr>\n",
       "      <td>pitch_number</td>\n",
       "      <td>0.003727</td>\n",
       "      <td>0.005518</td>\n",
       "      <td>0.008071</td>\n",
       "      <td>-0.227083</td>\n",
       "      <td>0.811618</td>\n",
       "      <td>0.792195</td>\n",
       "      <td>0.005046</td>\n",
       "      <td>0.003289</td>\n",
       "      <td>0.003549</td>\n",
       "      <td>-0.006036</td>\n",
       "      <td>0.007646</td>\n",
       "      <td>-0.000226</td>\n",
       "      <td>-0.001922</td>\n",
       "      <td>0.005301</td>\n",
       "      <td>0.000342</td>\n",
       "      <td>1.000000</td>\n",
       "      <td>0.001476</td>\n",
       "      <td>0.001451</td>\n",
       "      <td>-0.000645</td>\n",
       "      <td>0.003499</td>\n",
       "    </tr>\n",
       "    <tr>\n",
       "      <td>home_score</td>\n",
       "      <td>0.014395</td>\n",
       "      <td>0.026249</td>\n",
       "      <td>0.001661</td>\n",
       "      <td>0.000456</td>\n",
       "      <td>0.002613</td>\n",
       "      <td>-0.001130</td>\n",
       "      <td>0.032304</td>\n",
       "      <td>0.020603</td>\n",
       "      <td>0.019001</td>\n",
       "      <td>0.022076</td>\n",
       "      <td>0.030643</td>\n",
       "      <td>0.473534</td>\n",
       "      <td>0.019178</td>\n",
       "      <td>0.027453</td>\n",
       "      <td>0.570902</td>\n",
       "      <td>0.001476</td>\n",
       "      <td>1.000000</td>\n",
       "      <td>0.261948</td>\n",
       "      <td>0.622574</td>\n",
       "      <td>0.631036</td>\n",
       "    </tr>\n",
       "    <tr>\n",
       "      <td>away_score</td>\n",
       "      <td>0.014489</td>\n",
       "      <td>0.025176</td>\n",
       "      <td>-0.000585</td>\n",
       "      <td>0.004113</td>\n",
       "      <td>0.001572</td>\n",
       "      <td>-0.000494</td>\n",
       "      <td>0.047526</td>\n",
       "      <td>0.007431</td>\n",
       "      <td>0.013486</td>\n",
       "      <td>0.028696</td>\n",
       "      <td>0.030383</td>\n",
       "      <td>0.491620</td>\n",
       "      <td>0.014655</td>\n",
       "      <td>0.041208</td>\n",
       "      <td>0.591577</td>\n",
       "      <td>0.001451</td>\n",
       "      <td>0.261948</td>\n",
       "      <td>1.000000</td>\n",
       "      <td>0.626259</td>\n",
       "      <td>0.642817</td>\n",
       "    </tr>\n",
       "    <tr>\n",
       "      <td>bat_score</td>\n",
       "      <td>0.012490</td>\n",
       "      <td>0.057596</td>\n",
       "      <td>0.005006</td>\n",
       "      <td>0.010866</td>\n",
       "      <td>0.005796</td>\n",
       "      <td>-0.007427</td>\n",
       "      <td>0.040539</td>\n",
       "      <td>0.010315</td>\n",
       "      <td>0.012318</td>\n",
       "      <td>0.018825</td>\n",
       "      <td>0.063685</td>\n",
       "      <td>0.461209</td>\n",
       "      <td>0.041493</td>\n",
       "      <td>0.034884</td>\n",
       "      <td>0.560597</td>\n",
       "      <td>-0.000645</td>\n",
       "      <td>0.622574</td>\n",
       "      <td>0.626259</td>\n",
       "      <td>1.000000</td>\n",
       "      <td>0.261033</td>\n",
       "    </tr>\n",
       "    <tr>\n",
       "      <td>fld_score</td>\n",
       "      <td>0.016320</td>\n",
       "      <td>-0.005133</td>\n",
       "      <td>-0.003802</td>\n",
       "      <td>-0.005951</td>\n",
       "      <td>-0.001499</td>\n",
       "      <td>0.005589</td>\n",
       "      <td>0.039445</td>\n",
       "      <td>0.017975</td>\n",
       "      <td>0.020241</td>\n",
       "      <td>0.031965</td>\n",
       "      <td>-0.001573</td>\n",
       "      <td>0.503124</td>\n",
       "      <td>-0.006895</td>\n",
       "      <td>0.033917</td>\n",
       "      <td>0.601052</td>\n",
       "      <td>0.003499</td>\n",
       "      <td>0.631036</td>\n",
       "      <td>0.642817</td>\n",
       "      <td>0.261033</td>\n",
       "      <td>1.000000</td>\n",
       "    </tr>\n",
       "  </tbody>\n",
       "</table>\n",
       "</div>"
      ],
      "text/plain": [
       "                 batter   pitcher      zone  hit_location     balls   strikes  \\\n",
       "batter         1.000000  0.030759 -0.000501     -0.027750 -0.001460  0.007482   \n",
       "pitcher        0.030759  1.000000 -0.009172     -0.003279  0.007758 -0.000378   \n",
       "zone          -0.000501 -0.009172  1.000000     -0.244402 -0.057494  0.079626   \n",
       "hit_location  -0.027750 -0.003279 -0.244402      1.000000 -0.074303 -0.346655   \n",
       "balls         -0.001460  0.007758 -0.057494     -0.074303  1.000000  0.383334   \n",
       "strikes        0.007482 -0.000378  0.079626     -0.346655  0.383334  1.000000   \n",
       "game_year      0.147772  0.120942  0.013343     -0.005682  0.002650  0.005796   \n",
       "on_3b          0.041489  0.027418  0.000051     -0.003255  0.003898  0.001583   \n",
       "on_2b          0.031027  0.021888  0.001686     -0.006527  0.007581 -0.000119   \n",
       "on_1b          0.018743  0.030082 -0.001600     -0.004364 -0.008013 -0.003170   \n",
       "outs_when_up  -0.006257 -0.000180  0.022672     -0.018293  0.014593  0.000774   \n",
       "inning         0.011395  0.011175  0.003675     -0.014895 -0.001729 -0.000429   \n",
       "fielder_2      0.028350  0.098979  0.002199      0.007148 -0.003021 -0.001125   \n",
       "game_pk        0.141491  0.110525  0.013181     -0.007228  0.002564  0.006139   \n",
       "at_bat_number  0.012864  0.017099  0.004285     -0.011905  0.000175 -0.001449   \n",
       "pitch_number   0.003727  0.005518  0.008071     -0.227083  0.811618  0.792195   \n",
       "home_score     0.014395  0.026249  0.001661      0.000456  0.002613 -0.001130   \n",
       "away_score     0.014489  0.025176 -0.000585      0.004113  0.001572 -0.000494   \n",
       "bat_score      0.012490  0.057596  0.005006      0.010866  0.005796 -0.007427   \n",
       "fld_score      0.016320 -0.005133 -0.003802     -0.005951 -0.001499  0.005589   \n",
       "\n",
       "               game_year     on_3b     on_2b     on_1b  outs_when_up  \\\n",
       "batter          0.147772  0.041489  0.031027  0.018743     -0.006257   \n",
       "pitcher         0.120942  0.027418  0.021888  0.030082     -0.000180   \n",
       "zone            0.013343  0.000051  0.001686 -0.001600      0.022672   \n",
       "hit_location   -0.005682 -0.003255 -0.006527 -0.004364     -0.018293   \n",
       "balls           0.002650  0.003898  0.007581 -0.008013      0.014593   \n",
       "strikes         0.005796  0.001583 -0.000119 -0.003170      0.000774   \n",
       "game_year       1.000000  0.147716  0.141160  0.153077      0.000191   \n",
       "on_3b           0.147716  1.000000 -0.000562  0.041129      0.006068   \n",
       "on_2b           0.141160 -0.000562  1.000000  0.023383     -0.006285   \n",
       "on_1b           0.153077  0.041129  0.023383  1.000000     -0.002757   \n",
       "outs_when_up    0.000191  0.006068 -0.006285 -0.002757      1.000000   \n",
       "inning          0.000761  0.015881  0.023062  0.031409     -0.000476   \n",
       "fielder_2       0.131936  0.043737  0.030750  0.033351     -0.000789   \n",
       "game_pk         0.974829  0.143148  0.136019  0.147783      0.000451   \n",
       "at_bat_number   0.008316  0.016975  0.022948  0.032549      0.049162   \n",
       "pitch_number    0.005046  0.003289  0.003549 -0.006036      0.007646   \n",
       "home_score      0.032304  0.020603  0.019001  0.022076      0.030643   \n",
       "away_score      0.047526  0.007431  0.013486  0.028696      0.030383   \n",
       "bat_score       0.040539  0.010315  0.012318  0.018825      0.063685   \n",
       "fld_score       0.039445  0.017975  0.020241  0.031965     -0.001573   \n",
       "\n",
       "                 inning  fielder_2   game_pk  at_bat_number  pitch_number  \\\n",
       "batter         0.011395   0.028350  0.141491       0.012864      0.003727   \n",
       "pitcher        0.011175   0.098979  0.110525       0.017099      0.005518   \n",
       "zone           0.003675   0.002199  0.013181       0.004285      0.008071   \n",
       "hit_location  -0.014895   0.007148 -0.007228      -0.011905     -0.227083   \n",
       "balls         -0.001729  -0.003021  0.002564       0.000175      0.811618   \n",
       "strikes       -0.000429  -0.001125  0.006139      -0.001449      0.792195   \n",
       "game_year      0.000761   0.131936  0.974829       0.008316      0.005046   \n",
       "on_3b          0.015881   0.043737  0.143148       0.016975      0.003289   \n",
       "on_2b          0.023062   0.030750  0.136019       0.022948      0.003549   \n",
       "on_1b          0.031409   0.033351  0.147783       0.032549     -0.006036   \n",
       "outs_when_up  -0.000476  -0.000789  0.000451       0.049162      0.007646   \n",
       "inning         1.000000   0.005653  0.001770       0.974360     -0.000226   \n",
       "fielder_2      0.005653   1.000000  0.117174       0.007284     -0.001922   \n",
       "game_pk        0.001770   0.117174  1.000000       0.007947      0.005301   \n",
       "at_bat_number  0.974360   0.007284  0.007947       1.000000      0.000342   \n",
       "pitch_number  -0.000226  -0.001922  0.005301       0.000342      1.000000   \n",
       "home_score     0.473534   0.019178  0.027453       0.570902      0.001476   \n",
       "away_score     0.491620   0.014655  0.041208       0.591577      0.001451   \n",
       "bat_score      0.461209   0.041493  0.034884       0.560597     -0.000645   \n",
       "fld_score      0.503124  -0.006895  0.033917       0.601052      0.003499   \n",
       "\n",
       "               home_score  away_score  bat_score  fld_score  \n",
       "batter           0.014395    0.014489   0.012490   0.016320  \n",
       "pitcher          0.026249    0.025176   0.057596  -0.005133  \n",
       "zone             0.001661   -0.000585   0.005006  -0.003802  \n",
       "hit_location     0.000456    0.004113   0.010866  -0.005951  \n",
       "balls            0.002613    0.001572   0.005796  -0.001499  \n",
       "strikes         -0.001130   -0.000494  -0.007427   0.005589  \n",
       "game_year        0.032304    0.047526   0.040539   0.039445  \n",
       "on_3b            0.020603    0.007431   0.010315   0.017975  \n",
       "on_2b            0.019001    0.013486   0.012318   0.020241  \n",
       "on_1b            0.022076    0.028696   0.018825   0.031965  \n",
       "outs_when_up     0.030643    0.030383   0.063685  -0.001573  \n",
       "inning           0.473534    0.491620   0.461209   0.503124  \n",
       "fielder_2        0.019178    0.014655   0.041493  -0.006895  \n",
       "game_pk          0.027453    0.041208   0.034884   0.033917  \n",
       "at_bat_number    0.570902    0.591577   0.560597   0.601052  \n",
       "pitch_number     0.001476    0.001451  -0.000645   0.003499  \n",
       "home_score       1.000000    0.261948   0.622574   0.631036  \n",
       "away_score       0.261948    1.000000   0.626259   0.642817  \n",
       "bat_score        0.622574    0.626259   1.000000   0.261033  \n",
       "fld_score        0.631036    0.642817   0.261033   1.000000  "
      ]
     },
     "execution_count": 23,
     "metadata": {},
     "output_type": "execute_result"
    }
   ],
   "source": [
    "new_df.corr()"
   ]
  },
  {
   "cell_type": "code",
   "execution_count": 24,
   "metadata": {},
   "outputs": [],
   "source": [
    "# function to bin pitch types into binary classes\n",
    "\n",
    "def bin_pitches(single_pitch):\n",
    "    \n",
    "    offspeed = ['CH', 'FS']\n",
    "    breaking = ['SL', 'CU', 'KC']\n",
    "    \n",
    "    if single_pitch in offspeed:\n",
    "        return 0\n",
    "    elif single_pitch in breaking:\n",
    "        return 1\n",
    "    else:\n",
    "        return 2  "
   ]
  },
  {
   "cell_type": "code",
   "execution_count": 25,
   "metadata": {},
   "outputs": [],
   "source": [
    "# apply function to dataframe\n",
    "\n",
    "new_df['bin_pitches'] = new_df.pitch_type.apply(bin_pitches)"
   ]
  },
  {
   "cell_type": "code",
   "execution_count": 26,
   "metadata": {},
   "outputs": [
    {
     "data": {
      "text/plain": [
       "2    873647\n",
       "1    414661\n",
       "0    179211\n",
       "Name: bin_pitches, dtype: int64"
      ]
     },
     "execution_count": 26,
     "metadata": {},
     "output_type": "execute_result"
    }
   ],
   "source": [
    "new_df['bin_pitches'].value_counts()"
   ]
  },
  {
   "cell_type": "code",
   "execution_count": 27,
   "metadata": {},
   "outputs": [],
   "source": [
    "new_df[\"count\"] = new_df[\"balls\"].astype(str) + '-' + df[\"strikes\"].astype(str)"
   ]
  },
  {
   "cell_type": "code",
   "execution_count": 28,
   "metadata": {},
   "outputs": [
    {
     "data": {
      "text/html": [
       "<div>\n",
       "<style scoped>\n",
       "    .dataframe tbody tr th:only-of-type {\n",
       "        vertical-align: middle;\n",
       "    }\n",
       "\n",
       "    .dataframe tbody tr th {\n",
       "        vertical-align: top;\n",
       "    }\n",
       "\n",
       "    .dataframe thead th {\n",
       "        text-align: right;\n",
       "    }\n",
       "</style>\n",
       "<table border=\"1\" class=\"dataframe\">\n",
       "  <thead>\n",
       "    <tr style=\"text-align: right;\">\n",
       "      <th></th>\n",
       "      <th>pitch_type</th>\n",
       "      <th>game_date</th>\n",
       "      <th>player_name</th>\n",
       "      <th>batter</th>\n",
       "      <th>pitcher</th>\n",
       "      <th>events</th>\n",
       "      <th>description</th>\n",
       "      <th>zone</th>\n",
       "      <th>game_type</th>\n",
       "      <th>stand</th>\n",
       "      <th>...</th>\n",
       "      <th>pitch_number</th>\n",
       "      <th>pitch_name</th>\n",
       "      <th>home_score</th>\n",
       "      <th>away_score</th>\n",
       "      <th>bat_score</th>\n",
       "      <th>fld_score</th>\n",
       "      <th>if_fielding_alignment</th>\n",
       "      <th>of_fielding_alignment</th>\n",
       "      <th>bin_pitches</th>\n",
       "      <th>count</th>\n",
       "    </tr>\n",
       "  </thead>\n",
       "  <tbody>\n",
       "    <tr>\n",
       "      <td>0</td>\n",
       "      <td>SL</td>\n",
       "      <td>2018-10-28</td>\n",
       "      <td>Chris Sale</td>\n",
       "      <td>592518.0</td>\n",
       "      <td>519242.0</td>\n",
       "      <td>strikeout</td>\n",
       "      <td>swinging_strike</td>\n",
       "      <td>13.0</td>\n",
       "      <td>W</td>\n",
       "      <td>R</td>\n",
       "      <td>...</td>\n",
       "      <td>4.0</td>\n",
       "      <td>Slider</td>\n",
       "      <td>1.0</td>\n",
       "      <td>5.0</td>\n",
       "      <td>1.0</td>\n",
       "      <td>5.0</td>\n",
       "      <td>Standard</td>\n",
       "      <td>Standard</td>\n",
       "      <td>1</td>\n",
       "      <td>1.0-2.0</td>\n",
       "    </tr>\n",
       "    <tr>\n",
       "      <td>1</td>\n",
       "      <td>FF</td>\n",
       "      <td>2018-10-28</td>\n",
       "      <td>Chris Sale</td>\n",
       "      <td>592518.0</td>\n",
       "      <td>519242.0</td>\n",
       "      <td>NaN</td>\n",
       "      <td>ball</td>\n",
       "      <td>12.0</td>\n",
       "      <td>W</td>\n",
       "      <td>R</td>\n",
       "      <td>...</td>\n",
       "      <td>3.0</td>\n",
       "      <td>4-Seam Fastball</td>\n",
       "      <td>1.0</td>\n",
       "      <td>5.0</td>\n",
       "      <td>1.0</td>\n",
       "      <td>5.0</td>\n",
       "      <td>Standard</td>\n",
       "      <td>Standard</td>\n",
       "      <td>2</td>\n",
       "      <td>0.0-2.0</td>\n",
       "    </tr>\n",
       "    <tr>\n",
       "      <td>2</td>\n",
       "      <td>FF</td>\n",
       "      <td>2018-10-28</td>\n",
       "      <td>Chris Sale</td>\n",
       "      <td>592518.0</td>\n",
       "      <td>519242.0</td>\n",
       "      <td>NaN</td>\n",
       "      <td>foul</td>\n",
       "      <td>3.0</td>\n",
       "      <td>W</td>\n",
       "      <td>R</td>\n",
       "      <td>...</td>\n",
       "      <td>2.0</td>\n",
       "      <td>4-Seam Fastball</td>\n",
       "      <td>1.0</td>\n",
       "      <td>5.0</td>\n",
       "      <td>1.0</td>\n",
       "      <td>5.0</td>\n",
       "      <td>Standard</td>\n",
       "      <td>Standard</td>\n",
       "      <td>2</td>\n",
       "      <td>0.0-1.0</td>\n",
       "    </tr>\n",
       "    <tr>\n",
       "      <td>3</td>\n",
       "      <td>CH</td>\n",
       "      <td>2018-10-28</td>\n",
       "      <td>Chris Sale</td>\n",
       "      <td>592518.0</td>\n",
       "      <td>519242.0</td>\n",
       "      <td>NaN</td>\n",
       "      <td>swinging_strike</td>\n",
       "      <td>13.0</td>\n",
       "      <td>W</td>\n",
       "      <td>R</td>\n",
       "      <td>...</td>\n",
       "      <td>1.0</td>\n",
       "      <td>Changeup</td>\n",
       "      <td>1.0</td>\n",
       "      <td>5.0</td>\n",
       "      <td>1.0</td>\n",
       "      <td>5.0</td>\n",
       "      <td>Standard</td>\n",
       "      <td>Standard</td>\n",
       "      <td>0</td>\n",
       "      <td>0.0-0.0</td>\n",
       "    </tr>\n",
       "    <tr>\n",
       "      <td>4</td>\n",
       "      <td>SL</td>\n",
       "      <td>2018-10-28</td>\n",
       "      <td>Chris Sale</td>\n",
       "      <td>571771.0</td>\n",
       "      <td>519242.0</td>\n",
       "      <td>strikeout</td>\n",
       "      <td>swinging_strike</td>\n",
       "      <td>4.0</td>\n",
       "      <td>W</td>\n",
       "      <td>R</td>\n",
       "      <td>...</td>\n",
       "      <td>7.0</td>\n",
       "      <td>Slider</td>\n",
       "      <td>1.0</td>\n",
       "      <td>5.0</td>\n",
       "      <td>1.0</td>\n",
       "      <td>5.0</td>\n",
       "      <td>Standard</td>\n",
       "      <td>Standard</td>\n",
       "      <td>1</td>\n",
       "      <td>3.0-2.0</td>\n",
       "    </tr>\n",
       "  </tbody>\n",
       "</table>\n",
       "<p>5 rows × 39 columns</p>\n",
       "</div>"
      ],
      "text/plain": [
       "  pitch_type  game_date player_name    batter   pitcher     events  \\\n",
       "0         SL 2018-10-28  Chris Sale  592518.0  519242.0  strikeout   \n",
       "1         FF 2018-10-28  Chris Sale  592518.0  519242.0        NaN   \n",
       "2         FF 2018-10-28  Chris Sale  592518.0  519242.0        NaN   \n",
       "3         CH 2018-10-28  Chris Sale  592518.0  519242.0        NaN   \n",
       "4         SL 2018-10-28  Chris Sale  571771.0  519242.0  strikeout   \n",
       "\n",
       "       description  zone game_type stand  ... pitch_number       pitch_name  \\\n",
       "0  swinging_strike  13.0         W     R  ...          4.0           Slider   \n",
       "1             ball  12.0         W     R  ...          3.0  4-Seam Fastball   \n",
       "2             foul   3.0         W     R  ...          2.0  4-Seam Fastball   \n",
       "3  swinging_strike  13.0         W     R  ...          1.0         Changeup   \n",
       "4  swinging_strike   4.0         W     R  ...          7.0           Slider   \n",
       "\n",
       "  home_score away_score  bat_score fld_score  if_fielding_alignment  \\\n",
       "0        1.0        5.0        1.0       5.0               Standard   \n",
       "1        1.0        5.0        1.0       5.0               Standard   \n",
       "2        1.0        5.0        1.0       5.0               Standard   \n",
       "3        1.0        5.0        1.0       5.0               Standard   \n",
       "4        1.0        5.0        1.0       5.0               Standard   \n",
       "\n",
       "   of_fielding_alignment  bin_pitches    count  \n",
       "0               Standard            1  1.0-2.0  \n",
       "1               Standard            2  0.0-2.0  \n",
       "2               Standard            2  0.0-1.0  \n",
       "3               Standard            0  0.0-0.0  \n",
       "4               Standard            1  3.0-2.0  \n",
       "\n",
       "[5 rows x 39 columns]"
      ]
     },
     "execution_count": 28,
     "metadata": {},
     "output_type": "execute_result"
    }
   ],
   "source": [
    "new_df.head()"
   ]
  },
  {
   "cell_type": "code",
   "execution_count": 29,
   "metadata": {},
   "outputs": [],
   "source": [
    "new_df = new_df[new_df.balls != 4.0]"
   ]
  },
  {
   "cell_type": "code",
   "execution_count": 30,
   "metadata": {},
   "outputs": [
    {
     "data": {
      "text/plain": [
       "0.0-0.0    374520\n",
       "0.0-1.0    187910\n",
       "1.0-1.0    150275\n",
       "1.0-0.0    145609\n",
       "1.0-2.0    141060\n",
       "2.0-2.0    121980\n",
       "0.0-2.0     96429\n",
       "2.0-1.0     78408\n",
       "3.0-2.0     73862\n",
       "2.0-0.0     49747\n",
       "3.0-1.0     32437\n",
       "3.0-0.0     15273\n",
       "Name: count, dtype: int64"
      ]
     },
     "execution_count": 30,
     "metadata": {},
     "output_type": "execute_result"
    }
   ],
   "source": [
    "new_df['count'].value_counts()"
   ]
  },
  {
   "cell_type": "code",
   "execution_count": 31,
   "metadata": {},
   "outputs": [
    {
     "data": {
      "image/png": "[encoded data removed]",
      "text/plain": [
       "<Figure size 432x288 with 1 Axes>"
      ]
     },
     "metadata": {
      "needs_background": "light"
     },
     "output_type": "display_data"
    }
   ],
   "source": [
    "sns.countplot(data = new_df, x = 'pitch_name', order= new_df['pitch_name'].value_counts().index)\n",
    "plt.xticks(rotation=45);"
   ]
  },
  {
   "cell_type": "code",
   "execution_count": 32,
   "metadata": {},
   "outputs": [
    {
     "data": {
      "image/png": "[encoded data removed]",
      "text/plain": [
       "<Figure size 432x288 with 1 Axes>"
      ]
     },
     "metadata": {
      "needs_background": "light"
     },
     "output_type": "display_data"
    }
   ],
   "source": [
    "new_df['pitch_name'].value_counts().plot(kind=\"bar\")\n",
    "\n",
    "plt.show();"
   ]
  },
  {
   "cell_type": "code",
   "execution_count": 90,
   "metadata": {},
   "outputs": [
    {
     "data": {
      "image/png": "[encoded data removed]",
      "text/plain": [
       "<Figure size 432x288 with 1 Axes>"
      ]
     },
     "metadata": {
      "needs_background": "light"
     },
     "output_type": "display_data"
    }
   ],
   "source": [
    "bin_pitch_count = sns.countplot(data = new_df, x = 'bin_pitches')"
   ]
  },
  {
   "cell_type": "code",
   "execution_count": 91,
   "metadata": {},
   "outputs": [
    {
     "data": {
      "image/png": "[encoded data removed]",
      "text/plain": [
       "<Figure size 432x288 with 1 Axes>"
      ]
     },
     "metadata": {
      "needs_background": "light"
     },
     "output_type": "display_data"
    }
   ],
   "source": [
    "bin_plot = bin_count_plot.div(bin_count_plot.sum(axis=1), axis=0)\n",
    "\n",
    "bin_plot.plot(kind='bar', stacked=True, legend=False);"
   ]
  },
  {
   "cell_type": "code",
   "execution_count": 36,
   "metadata": {},
   "outputs": [
    {
     "data": {
      "text/plain": [
       "<matplotlib.axes._subplots.AxesSubplot at 0x16da16ef0>"
      ]
     },
     "execution_count": 36,
     "metadata": {},
     "output_type": "execute_result"
    },
    {
     "data": {
      "image/png": "[encoded data removed]",
      "text/plain": [
       "<Figure size 432x288 with 1 Axes>"
      ]
     },
     "metadata": {
      "needs_background": "light"
     },
     "output_type": "display_data"
    }
   ],
   "source": [
    "sns.countplot(data=new_df, x='count', hue='pitch_type')"
   ]
  },
  {
   "cell_type": "code",
   "execution_count": 37,
   "metadata": {},
   "outputs": [
    {
     "data": {
      "image/png": "[encoded data removed]",
      "text/plain": [
       "<Figure size 432x288 with 1 Axes>"
      ]
     },
     "metadata": {
      "needs_background": "light"
     },
     "output_type": "display_data"
    }
   ],
   "source": [
    "sns.countplot(data=new_df, x='count', hue='bin_pitches');"
   ]
  },
  {
   "cell_type": "code",
   "execution_count": 38,
   "metadata": {},
   "outputs": [
    {
     "data": {
      "image/png": "[encoded data removed]",
      "text/plain": [
       "<Figure size 432x288 with 1 Axes>"
      ]
     },
     "metadata": {
      "needs_background": "light"
     },
     "output_type": "display_data"
    }
   ],
   "source": [
    "bin_count_plot = new_df.groupby(['bin_pitches', 'count']).size().reset_index().pivot(columns='bin_pitches', \n",
    "                            index='count', values=0)\n",
    "bin_count_plot.plot(kind='bar', stacked=True);"
   ]
  },
  {
   "cell_type": "code",
   "execution_count": 39,
   "metadata": {},
   "outputs": [
    {
     "data": {
      "image/png": "[encoded data removed]",
      "text/plain": [
       "<Figure size 432x288 with 1 Axes>"
      ]
     },
     "metadata": {
      "needs_background": "light"
     },
     "output_type": "display_data"
    }
   ],
   "source": [
    "bin_plot = bin_count_plot.div(bin_count_plot.sum(axis=1), axis=0)\n",
    "\n",
    "bin_plot.plot(kind='bar', stacked=True);"
   ]
  },
  {
   "cell_type": "code",
   "execution_count": 79,
   "metadata": {},
   "outputs": [
    {
     "data": {
      "image/png": "[encoded data removed]",
      "text/plain": [
       "<Figure size 432x288 with 1 Axes>"
      ]
     },
     "metadata": {
      "needs_background": "light"
     },
     "output_type": "display_data"
    }
   ],
   "source": [
    "shift_count_plot = new_df.groupby(['bin_pitches', 'if_fielding_alignment']).size().reset_index().pivot(columns='bin_pitches', \n",
    "                            index='if_fielding_alignment', values=0)\n",
    "shift_count_plot.plot(kind='bar', stacked=True);"
   ]
  },
  {
   "cell_type": "code",
   "execution_count": 80,
   "metadata": {},
   "outputs": [
    {
     "data": {
      "image/png": "[encoded data removed]",
      "text/plain": [
       "<Figure size 432x288 with 1 Axes>"
      ]
     },
     "metadata": {
      "needs_background": "light"
     },
     "output_type": "display_data"
    }
   ],
   "source": [
    "shift_plot = shift_count_plot.div(shift_count_plot.sum(axis=1), axis=0)\n",
    "\n",
    "shift_plot.plot(kind='bar', stacked=True);"
   ]
  },
  {
   "cell_type": "code",
   "execution_count": 41,
   "metadata": {},
   "outputs": [
    {
     "data": {
      "image/png": "[encoded data removed]",
      "text/plain": [
       "<Figure size 432x288 with 1 Axes>"
      ]
     },
     "metadata": {
      "needs_background": "light"
     },
     "output_type": "display_data"
    }
   ],
   "source": [
    "shift_plot = new_df.groupby(['bin_pitches', 'of_fielding_alignment']).size().reset_index().pivot(columns='bin_pitches', \n",
    "                            index='of_fielding_alignment', values=0)\n",
    "shift_plot.plot(kind='bar', stacked=True);"
   ]
  },
  {
   "cell_type": "code",
   "execution_count": 42,
   "metadata": {},
   "outputs": [
    {
     "data": {
      "text/plain": [
       "Justin Verlander    7599\n",
       "Gerrit Cole         7357\n",
       "Patrick Corbin      6859\n",
       "Max Scherzer        6766\n",
       "Zack Greinke        6612\n",
       "                    ... \n",
       "Max Stassi             5\n",
       "Ryan LaMarre           5\n",
       "Jose Rondon            4\n",
       "Phillip Ervin          3\n",
       "Anthony Rizzo          2\n",
       "Name: player_name, Length: 1038, dtype: int64"
      ]
     },
     "execution_count": 42,
     "metadata": {},
     "output_type": "execute_result"
    }
   ],
   "source": [
    "new_df['player_name'].value_counts()"
   ]
  },
  {
   "cell_type": "code",
   "execution_count": 43,
   "metadata": {},
   "outputs": [],
   "source": [
    "# new_df.groupby(new_df['player_name']='Chris Sale')"
   ]
  },
  {
   "cell_type": "code",
   "execution_count": 44,
   "metadata": {},
   "outputs": [],
   "source": [
    "sale_df = new_df[new_df['player_name']=='Chris Sale'].groupby(['pitch_type']).count()"
   ]
  },
  {
   "cell_type": "code",
   "execution_count": 45,
   "metadata": {},
   "outputs": [
    {
     "data": {
      "text/html": [
       "<div>\n",
       "<style scoped>\n",
       "    .dataframe tbody tr th:only-of-type {\n",
       "        vertical-align: middle;\n",
       "    }\n",
       "\n",
       "    .dataframe tbody tr th {\n",
       "        vertical-align: top;\n",
       "    }\n",
       "\n",
       "    .dataframe thead th {\n",
       "        text-align: right;\n",
       "    }\n",
       "</style>\n",
       "<table border=\"1\" class=\"dataframe\">\n",
       "  <thead>\n",
       "    <tr style=\"text-align: right;\">\n",
       "      <th></th>\n",
       "      <th>pitch_type</th>\n",
       "      <th>game_date</th>\n",
       "      <th>player_name</th>\n",
       "      <th>batter</th>\n",
       "      <th>pitcher</th>\n",
       "      <th>events</th>\n",
       "      <th>description</th>\n",
       "      <th>zone</th>\n",
       "      <th>game_type</th>\n",
       "      <th>stand</th>\n",
       "      <th>...</th>\n",
       "      <th>pitch_number</th>\n",
       "      <th>pitch_name</th>\n",
       "      <th>home_score</th>\n",
       "      <th>away_score</th>\n",
       "      <th>bat_score</th>\n",
       "      <th>fld_score</th>\n",
       "      <th>if_fielding_alignment</th>\n",
       "      <th>of_fielding_alignment</th>\n",
       "      <th>bin_pitches</th>\n",
       "      <th>count</th>\n",
       "    </tr>\n",
       "  </thead>\n",
       "  <tbody>\n",
       "    <tr>\n",
       "      <td>0</td>\n",
       "      <td>CH</td>\n",
       "      <td>863</td>\n",
       "      <td>863</td>\n",
       "      <td>863</td>\n",
       "      <td>863</td>\n",
       "      <td>191</td>\n",
       "      <td>863</td>\n",
       "      <td>863</td>\n",
       "      <td>863</td>\n",
       "      <td>863</td>\n",
       "      <td>...</td>\n",
       "      <td>863</td>\n",
       "      <td>863</td>\n",
       "      <td>863</td>\n",
       "      <td>863</td>\n",
       "      <td>863</td>\n",
       "      <td>863</td>\n",
       "      <td>863</td>\n",
       "      <td>863</td>\n",
       "      <td>863</td>\n",
       "      <td>863</td>\n",
       "    </tr>\n",
       "    <tr>\n",
       "      <td>1</td>\n",
       "      <td>FF</td>\n",
       "      <td>1976</td>\n",
       "      <td>1976</td>\n",
       "      <td>1976</td>\n",
       "      <td>1976</td>\n",
       "      <td>508</td>\n",
       "      <td>1976</td>\n",
       "      <td>1976</td>\n",
       "      <td>1976</td>\n",
       "      <td>1976</td>\n",
       "      <td>...</td>\n",
       "      <td>1976</td>\n",
       "      <td>1976</td>\n",
       "      <td>1976</td>\n",
       "      <td>1976</td>\n",
       "      <td>1976</td>\n",
       "      <td>1976</td>\n",
       "      <td>1976</td>\n",
       "      <td>1976</td>\n",
       "      <td>1976</td>\n",
       "      <td>1976</td>\n",
       "    </tr>\n",
       "    <tr>\n",
       "      <td>2</td>\n",
       "      <td>FT</td>\n",
       "      <td>523</td>\n",
       "      <td>523</td>\n",
       "      <td>523</td>\n",
       "      <td>523</td>\n",
       "      <td>101</td>\n",
       "      <td>523</td>\n",
       "      <td>523</td>\n",
       "      <td>523</td>\n",
       "      <td>523</td>\n",
       "      <td>...</td>\n",
       "      <td>523</td>\n",
       "      <td>523</td>\n",
       "      <td>523</td>\n",
       "      <td>523</td>\n",
       "      <td>523</td>\n",
       "      <td>523</td>\n",
       "      <td>522</td>\n",
       "      <td>522</td>\n",
       "      <td>523</td>\n",
       "      <td>523</td>\n",
       "    </tr>\n",
       "    <tr>\n",
       "      <td>3</td>\n",
       "      <td>SL</td>\n",
       "      <td>1921</td>\n",
       "      <td>1921</td>\n",
       "      <td>1921</td>\n",
       "      <td>1921</td>\n",
       "      <td>498</td>\n",
       "      <td>1921</td>\n",
       "      <td>1921</td>\n",
       "      <td>1921</td>\n",
       "      <td>1921</td>\n",
       "      <td>...</td>\n",
       "      <td>1921</td>\n",
       "      <td>1921</td>\n",
       "      <td>1921</td>\n",
       "      <td>1921</td>\n",
       "      <td>1921</td>\n",
       "      <td>1921</td>\n",
       "      <td>1921</td>\n",
       "      <td>1921</td>\n",
       "      <td>1921</td>\n",
       "      <td>1921</td>\n",
       "    </tr>\n",
       "  </tbody>\n",
       "</table>\n",
       "<p>4 rows × 39 columns</p>\n",
       "</div>"
      ],
      "text/plain": [
       "  pitch_type  game_date  player_name  batter  pitcher  events  description  \\\n",
       "0         CH        863          863     863      863     191          863   \n",
       "1         FF       1976         1976    1976     1976     508         1976   \n",
       "2         FT        523          523     523      523     101          523   \n",
       "3         SL       1921         1921    1921     1921     498         1921   \n",
       "\n",
       "   zone  game_type  stand  ...  pitch_number  pitch_name  home_score  \\\n",
       "0   863        863    863  ...           863         863         863   \n",
       "1  1976       1976   1976  ...          1976        1976        1976   \n",
       "2   523        523    523  ...           523         523         523   \n",
       "3  1921       1921   1921  ...          1921        1921        1921   \n",
       "\n",
       "   away_score  bat_score  fld_score  if_fielding_alignment  \\\n",
       "0         863        863        863                    863   \n",
       "1        1976       1976       1976                   1976   \n",
       "2         523        523        523                    522   \n",
       "3        1921       1921       1921                   1921   \n",
       "\n",
       "   of_fielding_alignment  bin_pitches  count  \n",
       "0                    863          863    863  \n",
       "1                   1976         1976   1976  \n",
       "2                    522          523    523  \n",
       "3                   1921         1921   1921  \n",
       "\n",
       "[4 rows x 39 columns]"
      ]
     },
     "execution_count": 45,
     "metadata": {},
     "output_type": "execute_result"
    }
   ],
   "source": [
    "sale_df.reset_index()"
   ]
  },
  {
   "cell_type": "code",
   "execution_count": 46,
   "metadata": {},
   "outputs": [
    {
     "data": {
      "image/png": "[encoded data removed]",
      "text/plain": [
       "<Figure size 432x288 with 1 Axes>"
      ]
     },
     "metadata": {
      "needs_background": "light"
     },
     "output_type": "display_data"
    }
   ],
   "source": [
    "sale_count_plot = new_df[new_df['player_name']=='Chris Sale'].groupby(['bin_pitches', 'count']).size().reset_index().pivot(columns='bin_pitches', \n",
    "                            index='count', values=0)\n",
    "sale_count_plot.plot(kind='bar', stacked=True);"
   ]
  },
  {
   "cell_type": "code",
   "execution_count": 78,
   "metadata": {},
   "outputs": [
    {
     "data": {
      "image/png": "[encoded data removed]",
      "text/plain": [
       "<Figure size 432x288 with 1 Axes>"
      ]
     },
     "metadata": {
      "needs_background": "light"
     },
     "output_type": "display_data"
    }
   ],
   "source": [
    "sale_plot = sale_count_plot.div(sale_count_plot.sum(axis=1), axis=0)\n",
    "\n",
    "sale_plot.plot(kind='bar', stacked=True);"
   ]
  },
  {
   "cell_type": "code",
   "execution_count": 47,
   "metadata": {},
   "outputs": [
    {
     "data": {
      "image/png": "[encoded data removed]",
      "text/plain": [
       "<Figure size 432x288 with 1 Axes>"
      ]
     },
     "metadata": {
      "needs_background": "light"
     },
     "output_type": "display_data"
    }
   ],
   "source": [
    "cole_count_plot = new_df[new_df['player_name']=='Gerrit Cole'].groupby(['bin_pitches', 'count']).size().reset_index().pivot(columns='bin_pitches', \n",
    "                            index='count', values=0)\n",
    "cole_count_plot.plot(kind='bar', stacked=True);"
   ]
  },
  {
   "cell_type": "code",
   "execution_count": 77,
   "metadata": {},
   "outputs": [
    {
     "data": {
      "image/png": "[encoded data removed]",
      "text/plain": [
       "<Figure size 432x288 with 1 Axes>"
      ]
     },
     "metadata": {
      "needs_background": "light"
     },
     "output_type": "display_data"
    }
   ],
   "source": [
    "cole_plot = cole_count_plot.div(cole_count_plot.sum(axis=1), axis=0)\n",
    "\n",
    "cole_plot.plot(kind='bar', stacked=True);"
   ]
  },
  {
   "cell_type": "code",
   "execution_count": 48,
   "metadata": {},
   "outputs": [
    {
     "data": {
      "image/png": "[encoded data removed]",
      "text/plain": [
       "<Figure size 432x288 with 1 Axes>"
      ]
     },
     "metadata": {
      "needs_background": "light"
     },
     "output_type": "display_data"
    }
   ],
   "source": [
    "corbin_count_plot = new_df[new_df['player_name']=='Patrick Corbin'].groupby(['bin_pitches', 'count']).size().reset_index().pivot(columns='bin_pitches', \n",
    "                            index='count', values=0)\n",
    "corbin_count_plot.plot(kind='bar', stacked=True);"
   ]
  },
  {
   "cell_type": "code",
   "execution_count": 49,
   "metadata": {},
   "outputs": [
    {
     "data": {
      "image/png": "[encoded data removed]",
      "text/plain": [
       "<Figure size 432x288 with 1 Axes>"
      ]
     },
     "metadata": {
      "needs_background": "light"
     },
     "output_type": "display_data"
    }
   ],
   "source": [
    "corbin_plot = corbin_count_plot.div(corbin_count_plot.sum(axis=1), axis=0)\n",
    "\n",
    "corbin_plot.plot(kind='bar', stacked=True);"
   ]
  },
  {
   "cell_type": "code",
   "execution_count": 50,
   "metadata": {},
   "outputs": [
    {
     "data": {
      "image/png": "[encoded data removed]",
      "text/plain": [
       "<Figure size 432x288 with 1 Axes>"
      ]
     },
     "metadata": {
      "needs_background": "light"
     },
     "output_type": "display_data"
    }
   ],
   "source": [
    "hendricks_count_plot = new_df[new_df['player_name']=='Kyle Hendricks'].groupby(['bin_pitches', 'count']).size().reset_index().pivot(columns='bin_pitches', \n",
    "                            index='count', values=0)\n",
    "hendricks_count_plot.plot(kind='bar', stacked=True);"
   ]
  },
  {
   "cell_type": "code",
   "execution_count": 51,
   "metadata": {},
   "outputs": [
    {
     "data": {
      "image/png": "[encoded data removed]",
      "text/plain": [
       "<Figure size 432x288 with 1 Axes>"
      ]
     },
     "metadata": {
      "needs_background": "light"
     },
     "output_type": "display_data"
    }
   ],
   "source": [
    "hendricks_plot = hendricks_count_plot.div(hendricks_count_plot.sum(axis=1), axis=0)\n",
    "\n",
    "hendricks_plot.plot(kind='bar', stacked=True);"
   ]
  },
  {
   "cell_type": "code",
   "execution_count": 85,
   "metadata": {},
   "outputs": [
    {
     "data": {
      "text/html": [
       "<div>\n",
       "<style scoped>\n",
       "    .dataframe tbody tr th:only-of-type {\n",
       "        vertical-align: middle;\n",
       "    }\n",
       "\n",
       "    .dataframe tbody tr th {\n",
       "        vertical-align: top;\n",
       "    }\n",
       "\n",
       "    .dataframe thead th {\n",
       "        text-align: right;\n",
       "    }\n",
       "</style>\n",
       "<table border=\"1\" class=\"dataframe\">\n",
       "  <thead>\n",
       "    <tr style=\"text-align: right;\">\n",
       "      <th></th>\n",
       "      <th>pitch_type</th>\n",
       "      <th>game_date</th>\n",
       "      <th>player_name</th>\n",
       "      <th>batter</th>\n",
       "      <th>pitcher</th>\n",
       "      <th>events</th>\n",
       "      <th>description</th>\n",
       "      <th>zone</th>\n",
       "      <th>game_type</th>\n",
       "      <th>stand</th>\n",
       "      <th>...</th>\n",
       "      <th>bat_score</th>\n",
       "      <th>fld_score</th>\n",
       "      <th>if_fielding_alignment</th>\n",
       "      <th>of_fielding_alignment</th>\n",
       "      <th>bin_pitches</th>\n",
       "      <th>count</th>\n",
       "      <th>game_pitcher_id</th>\n",
       "      <th>prev_pitch_type</th>\n",
       "      <th>prev_pitch_bin</th>\n",
       "      <th>platoon</th>\n",
       "    </tr>\n",
       "  </thead>\n",
       "  <tbody>\n",
       "    <tr>\n",
       "      <td>2796</td>\n",
       "      <td>KC</td>\n",
       "      <td>2018-10-17</td>\n",
       "      <td>Lance McCullers Jr.</td>\n",
       "      <td>593428.0</td>\n",
       "      <td>621121.0</td>\n",
       "      <td>field_out</td>\n",
       "      <td>hit_into_play</td>\n",
       "      <td>8.0</td>\n",
       "      <td>L</td>\n",
       "      <td>R</td>\n",
       "      <td>...</td>\n",
       "      <td>8.0</td>\n",
       "      <td>5.0</td>\n",
       "      <td>Standard</td>\n",
       "      <td>Standard</td>\n",
       "      <td>1</td>\n",
       "      <td>2.0-2.0</td>\n",
       "      <td>563396.0_621121.0</td>\n",
       "      <td>NaN</td>\n",
       "      <td>NaN</td>\n",
       "      <td>0</td>\n",
       "    </tr>\n",
       "    <tr>\n",
       "      <td>2797</td>\n",
       "      <td>FT</td>\n",
       "      <td>2018-10-17</td>\n",
       "      <td>Lance McCullers Jr.</td>\n",
       "      <td>593428.0</td>\n",
       "      <td>621121.0</td>\n",
       "      <td>NaN</td>\n",
       "      <td>called_strike</td>\n",
       "      <td>6.0</td>\n",
       "      <td>L</td>\n",
       "      <td>R</td>\n",
       "      <td>...</td>\n",
       "      <td>8.0</td>\n",
       "      <td>5.0</td>\n",
       "      <td>Standard</td>\n",
       "      <td>Standard</td>\n",
       "      <td>2</td>\n",
       "      <td>2.0-1.0</td>\n",
       "      <td>563396.0_621121.0</td>\n",
       "      <td>KC</td>\n",
       "      <td>1.0</td>\n",
       "      <td>0</td>\n",
       "    </tr>\n",
       "    <tr>\n",
       "      <td>2798</td>\n",
       "      <td>FT</td>\n",
       "      <td>2018-10-17</td>\n",
       "      <td>Lance McCullers Jr.</td>\n",
       "      <td>593428.0</td>\n",
       "      <td>621121.0</td>\n",
       "      <td>NaN</td>\n",
       "      <td>foul</td>\n",
       "      <td>11.0</td>\n",
       "      <td>L</td>\n",
       "      <td>R</td>\n",
       "      <td>...</td>\n",
       "      <td>8.0</td>\n",
       "      <td>5.0</td>\n",
       "      <td>Standard</td>\n",
       "      <td>Standard</td>\n",
       "      <td>2</td>\n",
       "      <td>2.0-0.0</td>\n",
       "      <td>563396.0_621121.0</td>\n",
       "      <td>FT</td>\n",
       "      <td>2.0</td>\n",
       "      <td>0</td>\n",
       "    </tr>\n",
       "    <tr>\n",
       "      <td>2799</td>\n",
       "      <td>KC</td>\n",
       "      <td>2018-10-17</td>\n",
       "      <td>Lance McCullers Jr.</td>\n",
       "      <td>593428.0</td>\n",
       "      <td>621121.0</td>\n",
       "      <td>NaN</td>\n",
       "      <td>ball</td>\n",
       "      <td>11.0</td>\n",
       "      <td>L</td>\n",
       "      <td>R</td>\n",
       "      <td>...</td>\n",
       "      <td>8.0</td>\n",
       "      <td>5.0</td>\n",
       "      <td>Standard</td>\n",
       "      <td>Standard</td>\n",
       "      <td>1</td>\n",
       "      <td>1.0-0.0</td>\n",
       "      <td>563396.0_621121.0</td>\n",
       "      <td>FT</td>\n",
       "      <td>2.0</td>\n",
       "      <td>0</td>\n",
       "    </tr>\n",
       "    <tr>\n",
       "      <td>2800</td>\n",
       "      <td>FT</td>\n",
       "      <td>2018-10-17</td>\n",
       "      <td>Lance McCullers Jr.</td>\n",
       "      <td>593428.0</td>\n",
       "      <td>621121.0</td>\n",
       "      <td>NaN</td>\n",
       "      <td>blocked_ball</td>\n",
       "      <td>14.0</td>\n",
       "      <td>L</td>\n",
       "      <td>R</td>\n",
       "      <td>...</td>\n",
       "      <td>8.0</td>\n",
       "      <td>5.0</td>\n",
       "      <td>Standard</td>\n",
       "      <td>Standard</td>\n",
       "      <td>2</td>\n",
       "      <td>0.0-0.0</td>\n",
       "      <td>563396.0_621121.0</td>\n",
       "      <td>KC</td>\n",
       "      <td>1.0</td>\n",
       "      <td>0</td>\n",
       "    </tr>\n",
       "    <tr>\n",
       "      <td>...</td>\n",
       "      <td>...</td>\n",
       "      <td>...</td>\n",
       "      <td>...</td>\n",
       "      <td>...</td>\n",
       "      <td>...</td>\n",
       "      <td>...</td>\n",
       "      <td>...</td>\n",
       "      <td>...</td>\n",
       "      <td>...</td>\n",
       "      <td>...</td>\n",
       "      <td>...</td>\n",
       "      <td>...</td>\n",
       "      <td>...</td>\n",
       "      <td>...</td>\n",
       "      <td>...</td>\n",
       "      <td>...</td>\n",
       "      <td>...</td>\n",
       "      <td>...</td>\n",
       "      <td>...</td>\n",
       "      <td>...</td>\n",
       "      <td>...</td>\n",
       "    </tr>\n",
       "    <tr>\n",
       "      <td>722129</td>\n",
       "      <td>FT</td>\n",
       "      <td>2018-03-31</td>\n",
       "      <td>Lance McCullers Jr.</td>\n",
       "      <td>134181.0</td>\n",
       "      <td>621121.0</td>\n",
       "      <td>NaN</td>\n",
       "      <td>ball</td>\n",
       "      <td>14.0</td>\n",
       "      <td>R</td>\n",
       "      <td>R</td>\n",
       "      <td>...</td>\n",
       "      <td>0.0</td>\n",
       "      <td>0.0</td>\n",
       "      <td>Standard</td>\n",
       "      <td>Standard</td>\n",
       "      <td>2</td>\n",
       "      <td>0.0-0.0</td>\n",
       "      <td>529435.0_621121.0</td>\n",
       "      <td>KC</td>\n",
       "      <td>1.0</td>\n",
       "      <td>0</td>\n",
       "    </tr>\n",
       "    <tr>\n",
       "      <td>722130</td>\n",
       "      <td>KC</td>\n",
       "      <td>2018-03-31</td>\n",
       "      <td>Lance McCullers Jr.</td>\n",
       "      <td>608336.0</td>\n",
       "      <td>621121.0</td>\n",
       "      <td>field_out</td>\n",
       "      <td>hit_into_play</td>\n",
       "      <td>14.0</td>\n",
       "      <td>R</td>\n",
       "      <td>L</td>\n",
       "      <td>...</td>\n",
       "      <td>0.0</td>\n",
       "      <td>0.0</td>\n",
       "      <td>Infield shift</td>\n",
       "      <td>Strategic</td>\n",
       "      <td>1</td>\n",
       "      <td>0.0-2.0</td>\n",
       "      <td>529435.0_621121.0</td>\n",
       "      <td>FT</td>\n",
       "      <td>2.0</td>\n",
       "      <td>1</td>\n",
       "    </tr>\n",
       "    <tr>\n",
       "      <td>722131</td>\n",
       "      <td>KC</td>\n",
       "      <td>2018-03-31</td>\n",
       "      <td>Lance McCullers Jr.</td>\n",
       "      <td>608336.0</td>\n",
       "      <td>621121.0</td>\n",
       "      <td>NaN</td>\n",
       "      <td>swinging_strike</td>\n",
       "      <td>14.0</td>\n",
       "      <td>R</td>\n",
       "      <td>L</td>\n",
       "      <td>...</td>\n",
       "      <td>0.0</td>\n",
       "      <td>0.0</td>\n",
       "      <td>Infield shift</td>\n",
       "      <td>Strategic</td>\n",
       "      <td>1</td>\n",
       "      <td>0.0-1.0</td>\n",
       "      <td>529435.0_621121.0</td>\n",
       "      <td>KC</td>\n",
       "      <td>1.0</td>\n",
       "      <td>1</td>\n",
       "    </tr>\n",
       "    <tr>\n",
       "      <td>722132</td>\n",
       "      <td>FF</td>\n",
       "      <td>2018-03-31</td>\n",
       "      <td>Lance McCullers Jr.</td>\n",
       "      <td>608336.0</td>\n",
       "      <td>621121.0</td>\n",
       "      <td>NaN</td>\n",
       "      <td>called_strike</td>\n",
       "      <td>8.0</td>\n",
       "      <td>R</td>\n",
       "      <td>L</td>\n",
       "      <td>...</td>\n",
       "      <td>0.0</td>\n",
       "      <td>0.0</td>\n",
       "      <td>Infield shift</td>\n",
       "      <td>Strategic</td>\n",
       "      <td>2</td>\n",
       "      <td>0.0-0.0</td>\n",
       "      <td>529435.0_621121.0</td>\n",
       "      <td>KC</td>\n",
       "      <td>1.0</td>\n",
       "      <td>1</td>\n",
       "    </tr>\n",
       "    <tr>\n",
       "      <td>722133</td>\n",
       "      <td>FT</td>\n",
       "      <td>2018-03-31</td>\n",
       "      <td>Lance McCullers Jr.</td>\n",
       "      <td>462101.0</td>\n",
       "      <td>621121.0</td>\n",
       "      <td>field_out</td>\n",
       "      <td>hit_into_play</td>\n",
       "      <td>4.0</td>\n",
       "      <td>R</td>\n",
       "      <td>R</td>\n",
       "      <td>...</td>\n",
       "      <td>0.0</td>\n",
       "      <td>0.0</td>\n",
       "      <td>Standard</td>\n",
       "      <td>Standard</td>\n",
       "      <td>2</td>\n",
       "      <td>0.0-0.0</td>\n",
       "      <td>529435.0_621121.0</td>\n",
       "      <td>FF</td>\n",
       "      <td>2.0</td>\n",
       "      <td>0</td>\n",
       "    </tr>\n",
       "  </tbody>\n",
       "</table>\n",
       "<p>2197 rows × 42 columns</p>\n",
       "</div>"
      ],
      "text/plain": [
       "       pitch_type  game_date          player_name    batter   pitcher  \\\n",
       "2796           KC 2018-10-17  Lance McCullers Jr.  593428.0  621121.0   \n",
       "2797           FT 2018-10-17  Lance McCullers Jr.  593428.0  621121.0   \n",
       "2798           FT 2018-10-17  Lance McCullers Jr.  593428.0  621121.0   \n",
       "2799           KC 2018-10-17  Lance McCullers Jr.  593428.0  621121.0   \n",
       "2800           FT 2018-10-17  Lance McCullers Jr.  593428.0  621121.0   \n",
       "...           ...        ...                  ...       ...       ...   \n",
       "722129         FT 2018-03-31  Lance McCullers Jr.  134181.0  621121.0   \n",
       "722130         KC 2018-03-31  Lance McCullers Jr.  608336.0  621121.0   \n",
       "722131         KC 2018-03-31  Lance McCullers Jr.  608336.0  621121.0   \n",
       "722132         FF 2018-03-31  Lance McCullers Jr.  608336.0  621121.0   \n",
       "722133         FT 2018-03-31  Lance McCullers Jr.  462101.0  621121.0   \n",
       "\n",
       "           events      description  zone game_type stand  ... bat_score  \\\n",
       "2796    field_out    hit_into_play   8.0         L     R  ...       8.0   \n",
       "2797          NaN    called_strike   6.0         L     R  ...       8.0   \n",
       "2798          NaN             foul  11.0         L     R  ...       8.0   \n",
       "2799          NaN             ball  11.0         L     R  ...       8.0   \n",
       "2800          NaN     blocked_ball  14.0         L     R  ...       8.0   \n",
       "...           ...              ...   ...       ...   ...  ...       ...   \n",
       "722129        NaN             ball  14.0         R     R  ...       0.0   \n",
       "722130  field_out    hit_into_play  14.0         R     L  ...       0.0   \n",
       "722131        NaN  swinging_strike  14.0         R     L  ...       0.0   \n",
       "722132        NaN    called_strike   8.0         R     L  ...       0.0   \n",
       "722133  field_out    hit_into_play   4.0         R     R  ...       0.0   \n",
       "\n",
       "       fld_score if_fielding_alignment of_fielding_alignment  bin_pitches  \\\n",
       "2796         5.0              Standard              Standard            1   \n",
       "2797         5.0              Standard              Standard            2   \n",
       "2798         5.0              Standard              Standard            2   \n",
       "2799         5.0              Standard              Standard            1   \n",
       "2800         5.0              Standard              Standard            2   \n",
       "...          ...                   ...                   ...          ...   \n",
       "722129       0.0              Standard              Standard            2   \n",
       "722130       0.0         Infield shift             Strategic            1   \n",
       "722131       0.0         Infield shift             Strategic            1   \n",
       "722132       0.0         Infield shift             Strategic            2   \n",
       "722133       0.0              Standard              Standard            2   \n",
       "\n",
       "          count    game_pitcher_id  prev_pitch_type  prev_pitch_bin  platoon  \n",
       "2796    2.0-2.0  563396.0_621121.0              NaN             NaN        0  \n",
       "2797    2.0-1.0  563396.0_621121.0               KC             1.0        0  \n",
       "2798    2.0-0.0  563396.0_621121.0               FT             2.0        0  \n",
       "2799    1.0-0.0  563396.0_621121.0               FT             2.0        0  \n",
       "2800    0.0-0.0  563396.0_621121.0               KC             1.0        0  \n",
       "...         ...                ...              ...             ...      ...  \n",
       "722129  0.0-0.0  529435.0_621121.0               KC             1.0        0  \n",
       "722130  0.0-2.0  529435.0_621121.0               FT             2.0        1  \n",
       "722131  0.0-1.0  529435.0_621121.0               KC             1.0        1  \n",
       "722132  0.0-0.0  529435.0_621121.0               KC             1.0        1  \n",
       "722133  0.0-0.0  529435.0_621121.0               FF             2.0        0  \n",
       "\n",
       "[2197 rows x 42 columns]"
      ]
     },
     "execution_count": 85,
     "metadata": {},
     "output_type": "execute_result"
    }
   ],
   "source": [
    "new_df[new_df['player_name']=='Lance McCullers Jr.']"
   ]
  },
  {
   "cell_type": "code",
   "execution_count": null,
   "metadata": {},
   "outputs": [],
   "source": []
  },
  {
   "cell_type": "code",
   "execution_count": 86,
   "metadata": {},
   "outputs": [
    {
     "data": {
      "image/png": "[encoded data removed]",
      "text/plain": [
       "<Figure size 432x288 with 1 Axes>"
      ]
     },
     "metadata": {
      "needs_background": "light"
     },
     "output_type": "display_data"
    }
   ],
   "source": [
    "mccullers_count_plot = new_df[new_df['player_name']=='Lance McCullers Jr.'].groupby(['bin_pitches', 'count']).size().reset_index().pivot(columns='bin_pitches', \n",
    "                            index='count', values=0)\n",
    "mccullers_count_plot.plot(kind='bar', stacked=True);"
   ]
  },
  {
   "cell_type": "code",
   "execution_count": 87,
   "metadata": {},
   "outputs": [
    {
     "data": {
      "image/png": "[encoded data removed]",
      "text/plain": [
       "<Figure size 432x288 with 1 Axes>"
      ]
     },
     "metadata": {
      "needs_background": "light"
     },
     "output_type": "display_data"
    }
   ],
   "source": [
    "mccullers_plot = mccullers_count_plot.div(mccullers_count_plot.sum(axis=1), axis=0)\n",
    "\n",
    "mccullers_plot.plot(kind='bar', stacked=True);"
   ]
  },
  {
   "cell_type": "code",
   "execution_count": 52,
   "metadata": {},
   "outputs": [],
   "source": [
    "new_df['game_pitcher_id'] = new_df['game_pk'].astype(str) + '_' + new_df['pitcher'].astype(str)"
   ]
  },
  {
   "cell_type": "code",
   "execution_count": 53,
   "metadata": {},
   "outputs": [],
   "source": [
    "new_df.drop('game_pk', axis=1, inplace=True)"
   ]
  },
  {
   "cell_type": "code",
   "execution_count": 54,
   "metadata": {},
   "outputs": [],
   "source": [
    "new_df['prev_pitch_type'] = new_df.groupby('game_pitcher_id')['pitch_type'].apply(lambda x: x.shift(1))"
   ]
  },
  {
   "cell_type": "code",
   "execution_count": 55,
   "metadata": {},
   "outputs": [],
   "source": [
    "new_df['prev_pitch_bin'] = new_df.groupby('game_pitcher_id')['bin_pitches'].apply(lambda x: x.shift(1))"
   ]
  },
  {
   "cell_type": "code",
   "execution_count": 56,
   "metadata": {},
   "outputs": [
    {
     "name": "stdout",
     "output_type": "stream",
     "text": [
      "<class 'pandas.core.frame.DataFrame'>\n",
      "Int64Index: 1467510 entries, 0 to 1474089\n",
      "Data columns (total 41 columns):\n",
      "pitch_type               1467510 non-null object\n",
      "game_date                1467510 non-null datetime64[ns]\n",
      "player_name              1467510 non-null object\n",
      "batter                   1467510 non-null float64\n",
      "pitcher                  1467510 non-null float64\n",
      "events                   374061 non-null object\n",
      "description              1467510 non-null object\n",
      "zone                     1465568 non-null float64\n",
      "game_type                1467510 non-null object\n",
      "stand                    1467510 non-null object\n",
      "p_throws                 1467510 non-null object\n",
      "home_team                1467510 non-null object\n",
      "away_team                1467510 non-null object\n",
      "type                     1467510 non-null object\n",
      "hit_location             326335 non-null float64\n",
      "bb_type                  254128 non-null object\n",
      "balls                    1467510 non-null float64\n",
      "strikes                  1467510 non-null float64\n",
      "game_year                1467510 non-null float64\n",
      "on_3b                    135436 non-null float64\n",
      "on_2b                    267458 non-null float64\n",
      "on_1b                    445808 non-null float64\n",
      "outs_when_up             1467510 non-null float64\n",
      "inning                   1467510 non-null float64\n",
      "inning_topbot            1467510 non-null object\n",
      "fielder_2                1467510 non-null float64\n",
      "sv_id                    1467509 non-null object\n",
      "at_bat_number            1467510 non-null float64\n",
      "pitch_number             1467510 non-null float64\n",
      "pitch_name               1467510 non-null object\n",
      "home_score               1467510 non-null float64\n",
      "away_score               1467510 non-null float64\n",
      "bat_score                1467510 non-null float64\n",
      "fld_score                1467510 non-null float64\n",
      "if_fielding_alignment    1464886 non-null object\n",
      "of_fielding_alignment    1464886 non-null object\n",
      "bin_pitches              1467510 non-null int64\n",
      "count                    1467510 non-null object\n",
      "game_pitcher_id          1467510 non-null object\n",
      "prev_pitch_type          1424311 non-null object\n",
      "prev_pitch_bin           1424311 non-null float64\n",
      "dtypes: datetime64[ns](1), float64(20), int64(1), object(19)\n",
      "memory usage: 470.2+ MB\n"
     ]
    }
   ],
   "source": [
    "new_df.info()"
   ]
  },
  {
   "cell_type": "code",
   "execution_count": 57,
   "metadata": {},
   "outputs": [
    {
     "data": {
      "image/png": "[encoded data removed]",
      "text/plain": [
       "<Figure size 432x288 with 1 Axes>"
      ]
     },
     "metadata": {
      "needs_background": "light"
     },
     "output_type": "display_data"
    }
   ],
   "source": [
    "count_plot = new_df.groupby(['bin_pitches', 'prev_pitch_type']).size().reset_index().pivot(columns='bin_pitches', \n",
    "                            index='prev_pitch_type', values=0)\n",
    "count_plot.plot(kind='bar', stacked=True);"
   ]
  },
  {
   "cell_type": "code",
   "execution_count": 58,
   "metadata": {},
   "outputs": [
    {
     "data": {
      "image/png": "[encoded data removed]",
      "text/plain": [
       "<Figure size 432x288 with 1 Axes>"
      ]
     },
     "metadata": {
      "needs_background": "light"
     },
     "output_type": "display_data"
    }
   ],
   "source": [
    "prev_count_plot = new_df.groupby(['bin_pitches', 'prev_pitch_bin']).size().reset_index().pivot(columns='bin_pitches', \n",
    "                            index='prev_pitch_bin', values=0)\n",
    "prev_count_plot.plot(kind='bar', stacked=True);"
   ]
  },
  {
   "cell_type": "code",
   "execution_count": 96,
   "metadata": {},
   "outputs": [
    {
     "data": {
      "image/png": "[encoded data removed]",
      "text/plain": [
       "<Figure size 432x288 with 1 Axes>"
      ]
     },
     "metadata": {
      "needs_background": "light"
     },
     "output_type": "display_data"
    }
   ],
   "source": [
    "prev_plot = prev_count_plot.div(prev_count_plot.sum(axis=1), axis=0)\n",
    "\n",
    "prev_plot.plot(kind='bar', stacked=True, legend=False);"
   ]
  },
  {
   "cell_type": "code",
   "execution_count": 60,
   "metadata": {},
   "outputs": [
    {
     "data": {
      "image/png": "[encoded data removed]",
      "text/plain": [
       "<Figure size 432x288 with 1 Axes>"
      ]
     },
     "metadata": {
      "needs_background": "light"
     },
     "output_type": "display_data"
    }
   ],
   "source": [
    "right_count_plot = new_df[new_df['p_throws']=='R'].groupby(['bin_pitches', 'count']).size().reset_index().pivot(columns='bin_pitches', \n",
    "                            index='count', values=0)\n",
    "right_count_plot.plot(kind='bar', stacked=True);"
   ]
  },
  {
   "cell_type": "code",
   "execution_count": 61,
   "metadata": {},
   "outputs": [
    {
     "data": {
      "image/png": "[encoded data removed]",
      "text/plain": [
       "<Figure size 432x288 with 1 Axes>"
      ]
     },
     "metadata": {
      "needs_background": "light"
     },
     "output_type": "display_data"
    }
   ],
   "source": [
    "right_plot = right_count_plot.div(right_count_plot.sum(axis=1), axis=0)\n",
    "\n",
    "right_plot.plot(kind='bar', stacked=True);"
   ]
  },
  {
   "cell_type": "code",
   "execution_count": 62,
   "metadata": {},
   "outputs": [
    {
     "data": {
      "image/png": "[encoded data removed]",
      "text/plain": [
       "<Figure size 432x288 with 1 Axes>"
      ]
     },
     "metadata": {
      "needs_background": "light"
     },
     "output_type": "display_data"
    }
   ],
   "source": [
    "left_count_plot = new_df[new_df['p_throws']=='L'].groupby(['bin_pitches', 'count']).size().reset_index().pivot(columns='bin_pitches', \n",
    "                            index='count', values=0)\n",
    "left_count_plot.plot(kind='bar', stacked=True);"
   ]
  },
  {
   "cell_type": "code",
   "execution_count": 63,
   "metadata": {},
   "outputs": [
    {
     "data": {
      "text/plain": [
       "<matplotlib.axes._subplots.AxesSubplot at 0x11c7e66d8>"
      ]
     },
     "execution_count": 63,
     "metadata": {},
     "output_type": "execute_result"
    },
    {
     "data": {
      "image/png": "[encoded data removed]",
      "text/plain": [
       "<Figure size 432x288 with 1 Axes>"
      ]
     },
     "metadata": {
      "needs_background": "light"
     },
     "output_type": "display_data"
    }
   ],
   "source": [
    "left_plot = left_count_plot.div(left_count_plot.sum(axis=1), axis=0)\n",
    "\n",
    "left_plot.plot(kind='bar', stacked=True)"
   ]
  },
  {
   "cell_type": "code",
   "execution_count": 64,
   "metadata": {},
   "outputs": [],
   "source": [
    "new_df['platoon'] = new_df['p_throws'] != new_df['stand']"
   ]
  },
  {
   "cell_type": "code",
   "execution_count": 65,
   "metadata": {},
   "outputs": [
    {
     "data": {
      "text/plain": [
       "True     788398\n",
       "False    679112\n",
       "Name: platoon, dtype: int64"
      ]
     },
     "execution_count": 65,
     "metadata": {},
     "output_type": "execute_result"
    }
   ],
   "source": [
    "new_df['platoon'].value_counts()"
   ]
  },
  {
   "cell_type": "code",
   "execution_count": 66,
   "metadata": {},
   "outputs": [],
   "source": [
    "new_df['platoon'] = new_df['platoon'].astype(int)"
   ]
  },
  {
   "cell_type": "code",
   "execution_count": 67,
   "metadata": {},
   "outputs": [
    {
     "data": {
      "text/plain": [
       "1    788398\n",
       "0    679112\n",
       "Name: platoon, dtype: int64"
      ]
     },
     "execution_count": 67,
     "metadata": {},
     "output_type": "execute_result"
    }
   ],
   "source": [
    "new_df['platoon'].value_counts()"
   ]
  },
  {
   "cell_type": "code",
   "execution_count": 68,
   "metadata": {},
   "outputs": [
    {
     "data": {
      "image/png": "[encoded data removed]",
      "text/plain": [
       "<Figure size 432x288 with 1 Axes>"
      ]
     },
     "metadata": {
      "needs_background": "light"
     },
     "output_type": "display_data"
    }
   ],
   "source": [
    "platoon_count_plot = new_df[new_df['platoon']==1].groupby(['bin_pitches', 'count']).size().reset_index().pivot(columns='bin_pitches', \n",
    "                            index='count', values=0)\n",
    "platoon_count_plot.plot(kind='bar', stacked=True);"
   ]
  },
  {
   "cell_type": "code",
   "execution_count": 69,
   "metadata": {},
   "outputs": [
    {
     "data": {
      "image/png": "[encoded data removed]",
      "text/plain": [
       "<Figure size 432x288 with 1 Axes>"
      ]
     },
     "metadata": {
      "needs_background": "light"
     },
     "output_type": "display_data"
    }
   ],
   "source": [
    "platoon_plot = platoon_count_plot.div(platoon_count_plot.sum(axis=1), axis=0)\n",
    "\n",
    "platoon_plot.plot(kind='bar', stacked=True);"
   ]
  },
  {
   "cell_type": "code",
   "execution_count": 70,
   "metadata": {},
   "outputs": [
    {
     "data": {
      "image/png": "[encoded data removed]",
      "text/plain": [
       "<Figure size 432x288 with 1 Axes>"
      ]
     },
     "metadata": {
      "needs_background": "light"
     },
     "output_type": "display_data"
    }
   ],
   "source": [
    "same_count_plot = new_df[new_df['platoon']==0].groupby(['bin_pitches', 'count']).size().reset_index().pivot(columns='bin_pitches', \n",
    "                            index='count', values=0)\n",
    "same_count_plot.plot(kind='bar', stacked=True);"
   ]
  },
  {
   "cell_type": "code",
   "execution_count": 72,
   "metadata": {},
   "outputs": [
    {
     "name": "stdout",
     "output_type": "stream",
     "text": [
      "bin_pitches    count         0         1         2\n",
      "0            0.0-0.0  0.028231  0.329679  0.642090\n",
      "1            0.0-1.0  0.066032  0.379550  0.554419\n",
      "2            0.0-2.0  0.084651  0.438554  0.476795\n",
      "3            1.0-0.0  0.056863  0.292651  0.650487\n",
      "4            1.0-1.0  0.084530  0.348211  0.567259\n",
      "5            1.0-2.0  0.100337  0.414819  0.484844\n",
      "6            2.0-0.0  0.050373  0.173787  0.775840\n",
      "7            2.0-1.0  0.077283  0.269342  0.653375\n",
      "8            2.0-2.0  0.107694  0.359171  0.533135\n",
      "9            3.0-0.0  0.009419  0.032088  0.958493\n",
      "10           3.0-1.0  0.041949  0.137790  0.820261\n",
      "11           3.0-2.0  0.079311  0.263208  0.657481\n"
     ]
    }
   ],
   "source": [
    "res = same_count_plot.div(same_count_plot.sum(axis=1), axis=0)\n",
    "\n",
    "print(res.reset_index())"
   ]
  },
  {
   "cell_type": "code",
   "execution_count": 73,
   "metadata": {},
   "outputs": [
    {
     "data": {
      "image/png": "[encoded data removed]",
      "text/plain": [
       "<Figure size 432x288 with 1 Axes>"
      ]
     },
     "metadata": {
      "needs_background": "light"
     },
     "output_type": "display_data"
    }
   ],
   "source": [
    "res.plot(kind='bar', stacked=True);"
   ]
  },
  {
   "cell_type": "code",
   "execution_count": 92,
   "metadata": {},
   "outputs": [
    {
     "data": {
      "image/png": "[encoded data removed]",
      "text/plain": [
       "<Figure size 432x288 with 1 Axes>"
      ]
     },
     "metadata": {
      "needs_background": "light"
     },
     "output_type": "display_data"
    }
   ],
   "source": [
    "platoon_bin = new_df.groupby(['bin_pitches', 'platoon']).size().reset_index().pivot(columns='bin_pitches', \n",
    "                            index='platoon', values=0)\n",
    "platoon_bin.plot(kind='bar', stacked=True);"
   ]
  },
  {
   "cell_type": "code",
   "execution_count": 95,
   "metadata": {},
   "outputs": [
    {
     "data": {
      "image/png": "[encoded data removed]",
      "text/plain": [
       "<Figure size 432x288 with 1 Axes>"
      ]
     },
     "metadata": {
      "needs_background": "light"
     },
     "output_type": "display_data"
    }
   ],
   "source": [
    "platoon_bin_plot = platoon_bin.div(platoon_bin.sum(axis=1), axis=0)\n",
    "\n",
    "platoon_bin_plot.plot(kind='bar', stacked=True, legend=False);"
   ]
  },
  {
   "cell_type": "code",
   "execution_count": 74,
   "metadata": {},
   "outputs": [
    {
     "data": {
      "text/html": [
       "<div>\n",
       "<style scoped>\n",
       "    .dataframe tbody tr th:only-of-type {\n",
       "        vertical-align: middle;\n",
       "    }\n",
       "\n",
       "    .dataframe tbody tr th {\n",
       "        vertical-align: top;\n",
       "    }\n",
       "\n",
       "    .dataframe thead th {\n",
       "        text-align: right;\n",
       "    }\n",
       "</style>\n",
       "<table border=\"1\" class=\"dataframe\">\n",
       "  <thead>\n",
       "    <tr style=\"text-align: right;\">\n",
       "      <th></th>\n",
       "      <th>pitch_type</th>\n",
       "      <th>game_date</th>\n",
       "      <th>player_name</th>\n",
       "      <th>batter</th>\n",
       "      <th>pitcher</th>\n",
       "      <th>events</th>\n",
       "      <th>description</th>\n",
       "      <th>zone</th>\n",
       "      <th>game_type</th>\n",
       "      <th>stand</th>\n",
       "      <th>...</th>\n",
       "      <th>bat_score</th>\n",
       "      <th>fld_score</th>\n",
       "      <th>if_fielding_alignment</th>\n",
       "      <th>of_fielding_alignment</th>\n",
       "      <th>bin_pitches</th>\n",
       "      <th>count</th>\n",
       "      <th>game_pitcher_id</th>\n",
       "      <th>prev_pitch_type</th>\n",
       "      <th>prev_pitch_bin</th>\n",
       "      <th>platoon</th>\n",
       "    </tr>\n",
       "  </thead>\n",
       "  <tbody>\n",
       "    <tr>\n",
       "      <td>0</td>\n",
       "      <td>SL</td>\n",
       "      <td>2018-10-28</td>\n",
       "      <td>Chris Sale</td>\n",
       "      <td>592518.0</td>\n",
       "      <td>519242.0</td>\n",
       "      <td>strikeout</td>\n",
       "      <td>swinging_strike</td>\n",
       "      <td>13.0</td>\n",
       "      <td>W</td>\n",
       "      <td>R</td>\n",
       "      <td>...</td>\n",
       "      <td>1.0</td>\n",
       "      <td>5.0</td>\n",
       "      <td>Standard</td>\n",
       "      <td>Standard</td>\n",
       "      <td>1</td>\n",
       "      <td>1.0-2.0</td>\n",
       "      <td>563411.0_519242.0</td>\n",
       "      <td>NaN</td>\n",
       "      <td>NaN</td>\n",
       "      <td>1</td>\n",
       "    </tr>\n",
       "    <tr>\n",
       "      <td>1</td>\n",
       "      <td>FF</td>\n",
       "      <td>2018-10-28</td>\n",
       "      <td>Chris Sale</td>\n",
       "      <td>592518.0</td>\n",
       "      <td>519242.0</td>\n",
       "      <td>NaN</td>\n",
       "      <td>ball</td>\n",
       "      <td>12.0</td>\n",
       "      <td>W</td>\n",
       "      <td>R</td>\n",
       "      <td>...</td>\n",
       "      <td>1.0</td>\n",
       "      <td>5.0</td>\n",
       "      <td>Standard</td>\n",
       "      <td>Standard</td>\n",
       "      <td>2</td>\n",
       "      <td>0.0-2.0</td>\n",
       "      <td>563411.0_519242.0</td>\n",
       "      <td>SL</td>\n",
       "      <td>1.0</td>\n",
       "      <td>1</td>\n",
       "    </tr>\n",
       "    <tr>\n",
       "      <td>2</td>\n",
       "      <td>FF</td>\n",
       "      <td>2018-10-28</td>\n",
       "      <td>Chris Sale</td>\n",
       "      <td>592518.0</td>\n",
       "      <td>519242.0</td>\n",
       "      <td>NaN</td>\n",
       "      <td>foul</td>\n",
       "      <td>3.0</td>\n",
       "      <td>W</td>\n",
       "      <td>R</td>\n",
       "      <td>...</td>\n",
       "      <td>1.0</td>\n",
       "      <td>5.0</td>\n",
       "      <td>Standard</td>\n",
       "      <td>Standard</td>\n",
       "      <td>2</td>\n",
       "      <td>0.0-1.0</td>\n",
       "      <td>563411.0_519242.0</td>\n",
       "      <td>FF</td>\n",
       "      <td>2.0</td>\n",
       "      <td>1</td>\n",
       "    </tr>\n",
       "    <tr>\n",
       "      <td>3</td>\n",
       "      <td>CH</td>\n",
       "      <td>2018-10-28</td>\n",
       "      <td>Chris Sale</td>\n",
       "      <td>592518.0</td>\n",
       "      <td>519242.0</td>\n",
       "      <td>NaN</td>\n",
       "      <td>swinging_strike</td>\n",
       "      <td>13.0</td>\n",
       "      <td>W</td>\n",
       "      <td>R</td>\n",
       "      <td>...</td>\n",
       "      <td>1.0</td>\n",
       "      <td>5.0</td>\n",
       "      <td>Standard</td>\n",
       "      <td>Standard</td>\n",
       "      <td>0</td>\n",
       "      <td>0.0-0.0</td>\n",
       "      <td>563411.0_519242.0</td>\n",
       "      <td>FF</td>\n",
       "      <td>2.0</td>\n",
       "      <td>1</td>\n",
       "    </tr>\n",
       "    <tr>\n",
       "      <td>4</td>\n",
       "      <td>SL</td>\n",
       "      <td>2018-10-28</td>\n",
       "      <td>Chris Sale</td>\n",
       "      <td>571771.0</td>\n",
       "      <td>519242.0</td>\n",
       "      <td>strikeout</td>\n",
       "      <td>swinging_strike</td>\n",
       "      <td>4.0</td>\n",
       "      <td>W</td>\n",
       "      <td>R</td>\n",
       "      <td>...</td>\n",
       "      <td>1.0</td>\n",
       "      <td>5.0</td>\n",
       "      <td>Standard</td>\n",
       "      <td>Standard</td>\n",
       "      <td>1</td>\n",
       "      <td>3.0-2.0</td>\n",
       "      <td>563411.0_519242.0</td>\n",
       "      <td>CH</td>\n",
       "      <td>0.0</td>\n",
       "      <td>1</td>\n",
       "    </tr>\n",
       "  </tbody>\n",
       "</table>\n",
       "<p>5 rows × 42 columns</p>\n",
       "</div>"
      ],
      "text/plain": [
       "  pitch_type  game_date player_name    batter   pitcher     events  \\\n",
       "0         SL 2018-10-28  Chris Sale  592518.0  519242.0  strikeout   \n",
       "1         FF 2018-10-28  Chris Sale  592518.0  519242.0        NaN   \n",
       "2         FF 2018-10-28  Chris Sale  592518.0  519242.0        NaN   \n",
       "3         CH 2018-10-28  Chris Sale  592518.0  519242.0        NaN   \n",
       "4         SL 2018-10-28  Chris Sale  571771.0  519242.0  strikeout   \n",
       "\n",
       "       description  zone game_type stand  ... bat_score fld_score  \\\n",
       "0  swinging_strike  13.0         W     R  ...       1.0       5.0   \n",
       "1             ball  12.0         W     R  ...       1.0       5.0   \n",
       "2             foul   3.0         W     R  ...       1.0       5.0   \n",
       "3  swinging_strike  13.0         W     R  ...       1.0       5.0   \n",
       "4  swinging_strike   4.0         W     R  ...       1.0       5.0   \n",
       "\n",
       "  if_fielding_alignment of_fielding_alignment  bin_pitches    count  \\\n",
       "0              Standard              Standard            1  1.0-2.0   \n",
       "1              Standard              Standard            2  0.0-2.0   \n",
       "2              Standard              Standard            2  0.0-1.0   \n",
       "3              Standard              Standard            0  0.0-0.0   \n",
       "4              Standard              Standard            1  3.0-2.0   \n",
       "\n",
       "     game_pitcher_id  prev_pitch_type  prev_pitch_bin  platoon  \n",
       "0  563411.0_519242.0              NaN             NaN        1  \n",
       "1  563411.0_519242.0               SL             1.0        1  \n",
       "2  563411.0_519242.0               FF             2.0        1  \n",
       "3  563411.0_519242.0               FF             2.0        1  \n",
       "4  563411.0_519242.0               CH             0.0        1  \n",
       "\n",
       "[5 rows x 42 columns]"
      ]
     },
     "execution_count": 74,
     "metadata": {},
     "output_type": "execute_result"
    }
   ],
   "source": [
    "new_df.head()"
   ]
  },
  {
   "cell_type": "code",
   "execution_count": 75,
   "metadata": {},
   "outputs": [
    {
     "name": "stdout",
     "output_type": "stream",
     "text": [
      "<class 'pandas.core.frame.DataFrame'>\n",
      "Int64Index: 1467510 entries, 0 to 1474089\n",
      "Data columns (total 42 columns):\n",
      "pitch_type               1467510 non-null object\n",
      "game_date                1467510 non-null datetime64[ns]\n",
      "player_name              1467510 non-null object\n",
      "batter                   1467510 non-null float64\n",
      "pitcher                  1467510 non-null float64\n",
      "events                   374061 non-null object\n",
      "description              1467510 non-null object\n",
      "zone                     1465568 non-null float64\n",
      "game_type                1467510 non-null object\n",
      "stand                    1467510 non-null object\n",
      "p_throws                 1467510 non-null object\n",
      "home_team                1467510 non-null object\n",
      "away_team                1467510 non-null object\n",
      "type                     1467510 non-null object\n",
      "hit_location             326335 non-null float64\n",
      "bb_type                  254128 non-null object\n",
      "balls                    1467510 non-null float64\n",
      "strikes                  1467510 non-null float64\n",
      "game_year                1467510 non-null float64\n",
      "on_3b                    135436 non-null float64\n",
      "on_2b                    267458 non-null float64\n",
      "on_1b                    445808 non-null float64\n",
      "outs_when_up             1467510 non-null float64\n",
      "inning                   1467510 non-null float64\n",
      "inning_topbot            1467510 non-null object\n",
      "fielder_2                1467510 non-null float64\n",
      "sv_id                    1467509 non-null object\n",
      "at_bat_number            1467510 non-null float64\n",
      "pitch_number             1467510 non-null float64\n",
      "pitch_name               1467510 non-null object\n",
      "home_score               1467510 non-null float64\n",
      "away_score               1467510 non-null float64\n",
      "bat_score                1467510 non-null float64\n",
      "fld_score                1467510 non-null float64\n",
      "if_fielding_alignment    1464886 non-null object\n",
      "of_fielding_alignment    1464886 non-null object\n",
      "bin_pitches              1467510 non-null int64\n",
      "count                    1467510 non-null object\n",
      "game_pitcher_id          1467510 non-null object\n",
      "prev_pitch_type          1424311 non-null object\n",
      "prev_pitch_bin           1424311 non-null float64\n",
      "platoon                  1467510 non-null int64\n",
      "dtypes: datetime64[ns](1), float64(20), int64(2), object(19)\n",
      "memory usage: 481.4+ MB\n"
     ]
    }
   ],
   "source": [
    "new_df.info()"
   ]
  },
  {
   "cell_type": "code",
   "execution_count": null,
   "metadata": {},
   "outputs": [],
   "source": [
    "# new_df.to_pickle(\"model_df.pkl\")"
   ]
  },
  {
   "cell_type": "code",
   "execution_count": null,
   "metadata": {},
   "outputs": [],
   "source": []
  }
 ],
 "metadata": {
  "kernelspec": {
   "display_name": "Python 3",
   "language": "python",
   "name": "python3"
  },
  "language_info": {
   "codemirror_mode": {
    "name": "ipython",
    "version": 3
   },
   "file_extension": ".py",
   "mimetype": "text/x-python",
   "name": "python",
   "nbconvert_exporter": "python",
   "pygments_lexer": "ipython3",
   "version": "3.6.9"
  }
 },
 "nbformat": 4,
 "nbformat_minor": 4
}
